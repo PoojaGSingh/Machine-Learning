{
 "cells": [
  {
   "cell_type": "code",
   "execution_count": 1,
   "id": "7079bf1a",
   "metadata": {},
   "outputs": [],
   "source": [
    "import pandas as pd\n",
    "import numpy as np\n",
    "import matplotlib.pyplot as plt\n",
    "%matplotlib inline\n",
    "import seaborn as sns\n",
    "import pickle\n",
    "from sklearn.preprocessing import LabelEncoder, PowerTransformer\n",
    "from sklearn.linear_model import LogisticRegression\n",
    "from sklearn.model_selection import train_test_split, GridSearchCV\n",
    "from sklearn.ensemble import RandomForestClassifier\n",
    "from sklearn.neighbors import KNeighborsClassifier\n",
    "from sklearn.tree import DecisionTreeClassifier\n",
    "from sklearn.svm import SVC\n",
    "\n",
    "from sklearn.metrics import accuracy_score, confusion_matrix, roc_curve, roc_auc_score, classification_report, plot_roc_curve\n",
    "import warnings\n",
    "warnings.filterwarnings(\"ignore\")"
   ]
  },
  {
   "cell_type": "code",
   "execution_count": 2,
   "id": "9c6a830b",
   "metadata": {},
   "outputs": [
    {
     "data": {
      "text/html": [
       "<div>\n",
       "<style scoped>\n",
       "    .dataframe tbody tr th:only-of-type {\n",
       "        vertical-align: middle;\n",
       "    }\n",
       "\n",
       "    .dataframe tbody tr th {\n",
       "        vertical-align: top;\n",
       "    }\n",
       "\n",
       "    .dataframe thead th {\n",
       "        text-align: right;\n",
       "    }\n",
       "</style>\n",
       "<table border=\"1\" class=\"dataframe\">\n",
       "  <thead>\n",
       "    <tr style=\"text-align: right;\">\n",
       "      <th></th>\n",
       "      <th>step</th>\n",
       "      <th>type</th>\n",
       "      <th>amount</th>\n",
       "      <th>nameOrig</th>\n",
       "      <th>oldbalanceOrg</th>\n",
       "      <th>newbalanceOrig</th>\n",
       "      <th>nameDest</th>\n",
       "      <th>oldbalanceDest</th>\n",
       "      <th>newbalanceDest</th>\n",
       "      <th>isFraud</th>\n",
       "      <th>isFlaggedFraud</th>\n",
       "    </tr>\n",
       "  </thead>\n",
       "  <tbody>\n",
       "    <tr>\n",
       "      <th>0</th>\n",
       "      <td>1</td>\n",
       "      <td>PAYMENT</td>\n",
       "      <td>9839.64</td>\n",
       "      <td>C1231006815</td>\n",
       "      <td>170136.00</td>\n",
       "      <td>160296.36</td>\n",
       "      <td>M1979787155</td>\n",
       "      <td>0.00</td>\n",
       "      <td>0.00</td>\n",
       "      <td>0</td>\n",
       "      <td>0</td>\n",
       "    </tr>\n",
       "    <tr>\n",
       "      <th>1</th>\n",
       "      <td>1</td>\n",
       "      <td>PAYMENT</td>\n",
       "      <td>1864.28</td>\n",
       "      <td>C1666544295</td>\n",
       "      <td>21249.00</td>\n",
       "      <td>19384.72</td>\n",
       "      <td>M2044282225</td>\n",
       "      <td>0.00</td>\n",
       "      <td>0.00</td>\n",
       "      <td>0</td>\n",
       "      <td>0</td>\n",
       "    </tr>\n",
       "    <tr>\n",
       "      <th>2</th>\n",
       "      <td>1</td>\n",
       "      <td>TRANSFER</td>\n",
       "      <td>181.00</td>\n",
       "      <td>C1305486145</td>\n",
       "      <td>181.00</td>\n",
       "      <td>0.00</td>\n",
       "      <td>C553264065</td>\n",
       "      <td>0.00</td>\n",
       "      <td>0.00</td>\n",
       "      <td>1</td>\n",
       "      <td>0</td>\n",
       "    </tr>\n",
       "    <tr>\n",
       "      <th>3</th>\n",
       "      <td>1</td>\n",
       "      <td>CASH_OUT</td>\n",
       "      <td>181.00</td>\n",
       "      <td>C840083671</td>\n",
       "      <td>181.00</td>\n",
       "      <td>0.00</td>\n",
       "      <td>C38997010</td>\n",
       "      <td>21182.00</td>\n",
       "      <td>0.00</td>\n",
       "      <td>1</td>\n",
       "      <td>0</td>\n",
       "    </tr>\n",
       "    <tr>\n",
       "      <th>4</th>\n",
       "      <td>1</td>\n",
       "      <td>PAYMENT</td>\n",
       "      <td>11668.14</td>\n",
       "      <td>C2048537720</td>\n",
       "      <td>41554.00</td>\n",
       "      <td>29885.86</td>\n",
       "      <td>M1230701703</td>\n",
       "      <td>0.00</td>\n",
       "      <td>0.00</td>\n",
       "      <td>0</td>\n",
       "      <td>0</td>\n",
       "    </tr>\n",
       "    <tr>\n",
       "      <th>...</th>\n",
       "      <td>...</td>\n",
       "      <td>...</td>\n",
       "      <td>...</td>\n",
       "      <td>...</td>\n",
       "      <td>...</td>\n",
       "      <td>...</td>\n",
       "      <td>...</td>\n",
       "      <td>...</td>\n",
       "      <td>...</td>\n",
       "      <td>...</td>\n",
       "      <td>...</td>\n",
       "    </tr>\n",
       "    <tr>\n",
       "      <th>6362615</th>\n",
       "      <td>743</td>\n",
       "      <td>CASH_OUT</td>\n",
       "      <td>339682.13</td>\n",
       "      <td>C786484425</td>\n",
       "      <td>339682.13</td>\n",
       "      <td>0.00</td>\n",
       "      <td>C776919290</td>\n",
       "      <td>0.00</td>\n",
       "      <td>339682.13</td>\n",
       "      <td>1</td>\n",
       "      <td>0</td>\n",
       "    </tr>\n",
       "    <tr>\n",
       "      <th>6362616</th>\n",
       "      <td>743</td>\n",
       "      <td>TRANSFER</td>\n",
       "      <td>6311409.28</td>\n",
       "      <td>C1529008245</td>\n",
       "      <td>6311409.28</td>\n",
       "      <td>0.00</td>\n",
       "      <td>C1881841831</td>\n",
       "      <td>0.00</td>\n",
       "      <td>0.00</td>\n",
       "      <td>1</td>\n",
       "      <td>0</td>\n",
       "    </tr>\n",
       "    <tr>\n",
       "      <th>6362617</th>\n",
       "      <td>743</td>\n",
       "      <td>CASH_OUT</td>\n",
       "      <td>6311409.28</td>\n",
       "      <td>C1162922333</td>\n",
       "      <td>6311409.28</td>\n",
       "      <td>0.00</td>\n",
       "      <td>C1365125890</td>\n",
       "      <td>68488.84</td>\n",
       "      <td>6379898.11</td>\n",
       "      <td>1</td>\n",
       "      <td>0</td>\n",
       "    </tr>\n",
       "    <tr>\n",
       "      <th>6362618</th>\n",
       "      <td>743</td>\n",
       "      <td>TRANSFER</td>\n",
       "      <td>850002.52</td>\n",
       "      <td>C1685995037</td>\n",
       "      <td>850002.52</td>\n",
       "      <td>0.00</td>\n",
       "      <td>C2080388513</td>\n",
       "      <td>0.00</td>\n",
       "      <td>0.00</td>\n",
       "      <td>1</td>\n",
       "      <td>0</td>\n",
       "    </tr>\n",
       "    <tr>\n",
       "      <th>6362619</th>\n",
       "      <td>743</td>\n",
       "      <td>CASH_OUT</td>\n",
       "      <td>850002.52</td>\n",
       "      <td>C1280323807</td>\n",
       "      <td>850002.52</td>\n",
       "      <td>0.00</td>\n",
       "      <td>C873221189</td>\n",
       "      <td>6510099.11</td>\n",
       "      <td>7360101.63</td>\n",
       "      <td>1</td>\n",
       "      <td>0</td>\n",
       "    </tr>\n",
       "  </tbody>\n",
       "</table>\n",
       "<p>6362620 rows × 11 columns</p>\n",
       "</div>"
      ],
      "text/plain": [
       "         step      type      amount     nameOrig  oldbalanceOrg  \\\n",
       "0           1   PAYMENT     9839.64  C1231006815      170136.00   \n",
       "1           1   PAYMENT     1864.28  C1666544295       21249.00   \n",
       "2           1  TRANSFER      181.00  C1305486145         181.00   \n",
       "3           1  CASH_OUT      181.00   C840083671         181.00   \n",
       "4           1   PAYMENT    11668.14  C2048537720       41554.00   \n",
       "...       ...       ...         ...          ...            ...   \n",
       "6362615   743  CASH_OUT   339682.13   C786484425      339682.13   \n",
       "6362616   743  TRANSFER  6311409.28  C1529008245     6311409.28   \n",
       "6362617   743  CASH_OUT  6311409.28  C1162922333     6311409.28   \n",
       "6362618   743  TRANSFER   850002.52  C1685995037      850002.52   \n",
       "6362619   743  CASH_OUT   850002.52  C1280323807      850002.52   \n",
       "\n",
       "         newbalanceOrig     nameDest  oldbalanceDest  newbalanceDest  isFraud  \\\n",
       "0             160296.36  M1979787155            0.00            0.00        0   \n",
       "1              19384.72  M2044282225            0.00            0.00        0   \n",
       "2                  0.00   C553264065            0.00            0.00        1   \n",
       "3                  0.00    C38997010        21182.00            0.00        1   \n",
       "4              29885.86  M1230701703            0.00            0.00        0   \n",
       "...                 ...          ...             ...             ...      ...   \n",
       "6362615            0.00   C776919290            0.00       339682.13        1   \n",
       "6362616            0.00  C1881841831            0.00            0.00        1   \n",
       "6362617            0.00  C1365125890        68488.84      6379898.11        1   \n",
       "6362618            0.00  C2080388513            0.00            0.00        1   \n",
       "6362619            0.00   C873221189      6510099.11      7360101.63        1   \n",
       "\n",
       "         isFlaggedFraud  \n",
       "0                     0  \n",
       "1                     0  \n",
       "2                     0  \n",
       "3                     0  \n",
       "4                     0  \n",
       "...                 ...  \n",
       "6362615               0  \n",
       "6362616               0  \n",
       "6362617               0  \n",
       "6362618               0  \n",
       "6362619               0  \n",
       "\n",
       "[6362620 rows x 11 columns]"
      ]
     },
     "execution_count": 2,
     "metadata": {},
     "output_type": "execute_result"
    }
   ],
   "source": [
    "data = pd.read_csv('C:\\\\Users\\pooja\\OneDrive\\Desktop\\Fraud.csv')\n",
    "data"
   ]
  },
  {
   "cell_type": "code",
   "execution_count": 3,
   "id": "1c33e6b1",
   "metadata": {},
   "outputs": [
    {
     "data": {
      "text/plain": [
       "step              0\n",
       "type              0\n",
       "amount            0\n",
       "nameOrig          0\n",
       "oldbalanceOrg     0\n",
       "newbalanceOrig    0\n",
       "nameDest          0\n",
       "oldbalanceDest    0\n",
       "newbalanceDest    0\n",
       "isFraud           0\n",
       "isFlaggedFraud    0\n",
       "dtype: int64"
      ]
     },
     "execution_count": 3,
     "metadata": {},
     "output_type": "execute_result"
    }
   ],
   "source": [
    "# checking for missing values\n",
    "data.isna().sum()"
   ]
  },
  {
   "cell_type": "code",
   "execution_count": 4,
   "id": "216a9056",
   "metadata": {},
   "outputs": [],
   "source": [
    "# No null values present"
   ]
  },
  {
   "cell_type": "code",
   "execution_count": 5,
   "id": "481cc57f",
   "metadata": {},
   "outputs": [
    {
     "name": "stdout",
     "output_type": "stream",
     "text": [
      "<class 'pandas.core.frame.DataFrame'>\n",
      "RangeIndex: 6362620 entries, 0 to 6362619\n",
      "Data columns (total 11 columns):\n",
      " #   Column          Dtype  \n",
      "---  ------          -----  \n",
      " 0   step            int64  \n",
      " 1   type            object \n",
      " 2   amount          float64\n",
      " 3   nameOrig        object \n",
      " 4   oldbalanceOrg   float64\n",
      " 5   newbalanceOrig  float64\n",
      " 6   nameDest        object \n",
      " 7   oldbalanceDest  float64\n",
      " 8   newbalanceDest  float64\n",
      " 9   isFraud         int64  \n",
      " 10  isFlaggedFraud  int64  \n",
      "dtypes: float64(5), int64(3), object(3)\n",
      "memory usage: 534.0+ MB\n"
     ]
    }
   ],
   "source": [
    "# looking at info\n",
    "data.info()"
   ]
  },
  {
   "cell_type": "code",
   "execution_count": 6,
   "id": "19276140",
   "metadata": {},
   "outputs": [
    {
     "data": {
      "text/plain": [
       "step                  743\n",
       "type                    5\n",
       "amount            5316900\n",
       "nameOrig          6353307\n",
       "oldbalanceOrg     1845844\n",
       "newbalanceOrig    2682586\n",
       "nameDest          2722362\n",
       "oldbalanceDest    3614697\n",
       "newbalanceDest    3555499\n",
       "isFraud                 2\n",
       "isFlaggedFraud          2\n",
       "dtype: int64"
      ]
     },
     "execution_count": 6,
     "metadata": {},
     "output_type": "execute_result"
    }
   ],
   "source": [
    "data.nunique()"
   ]
  },
  {
   "cell_type": "code",
   "execution_count": 7,
   "id": "87489e4c",
   "metadata": {},
   "outputs": [],
   "source": [
    "#Deleting the column step as it has no relation with an transaction being fraud or not\n",
    "data= data.drop(columns=['step'])"
   ]
  },
  {
   "cell_type": "code",
   "execution_count": 8,
   "id": "ed0f14dc",
   "metadata": {},
   "outputs": [],
   "source": [
    "#Dividing the data into numerical and categorical data\n",
    "n_data = data [['amount', 'oldbalanceOrg', 'newbalanceOrig', 'oldbalanceDest','newbalanceDest']]\n",
    "c_data = data [['type', 'isFraud', 'isFlaggedFraud']]"
   ]
  },
  {
   "cell_type": "code",
   "execution_count": 9,
   "id": "a9b1b0e3",
   "metadata": {},
   "outputs": [],
   "source": [
    "#Analysis of categorical data"
   ]
  },
  {
   "cell_type": "code",
   "execution_count": 10,
   "id": "1fe06771",
   "metadata": {},
   "outputs": [
    {
     "data": {
      "text/plain": [
       "<function matplotlib.pyplot.show(close=None, block=None)>"
      ]
     },
     "execution_count": 10,
     "metadata": {},
     "output_type": "execute_result"
    },
    {
     "data": {
      "image/png": "[encoded data removed]",
      "text/plain": [
       "<Figure size 1080x576 with 3 Axes>"
      ]
     },
     "metadata": {
      "needs_background": "light"
     },
     "output_type": "display_data"
    }
   ],
   "source": [
    "#Data Visualisation\n",
    "#Univariate Analysis\n",
    "\n",
    "plt.figure(figsize=(15,8))\n",
    "plotnumber = 1\n",
    "for column in c_data:\n",
    "    if plotnumber <=4:\n",
    "        ax= plt.subplot(1,3,plotnumber)\n",
    "        sns.countplot(c_data[column])\n",
    "        plt.xlabel(column,fontsize=20)\n",
    "    plotnumber+=1\n",
    "plt.show"
   ]
  },
  {
   "cell_type": "code",
   "execution_count": 11,
   "id": "e848e090",
   "metadata": {},
   "outputs": [],
   "source": [
    "# From the above graphs we observe very few transactions are debt transaction\n",
    "#Also Fraud transcation are few compared to not fraud implies the data set is imbalanced"
   ]
  },
  {
   "cell_type": "code",
   "execution_count": 12,
   "id": "7fe9debc",
   "metadata": {},
   "outputs": [
    {
     "name": "stdout",
     "output_type": "stream",
     "text": [
      "Column Name        : type\n",
      "------------------------------------------\n",
      "CASH_OUT    35.166331\n",
      "PAYMENT     33.814608\n",
      "CASH_IN     21.992261\n",
      "TRANSFER     8.375622\n",
      "DEBIT        0.651178\n",
      "Name: type, dtype: float64\n",
      "\n",
      "\n",
      "Column Name        : isFraud\n",
      "------------------------------------------\n",
      "0    99.870918\n",
      "1     0.129082\n",
      "Name: isFraud, dtype: float64\n",
      "\n",
      "\n",
      "Column Name        : isFlaggedFraud\n",
      "------------------------------------------\n",
      "0    99.999749\n",
      "1     0.000251\n",
      "Name: isFlaggedFraud, dtype: float64\n",
      "\n",
      "\n"
     ]
    }
   ],
   "source": [
    "#checking for unique categoriesz\n",
    "column_names = c_data.columns\n",
    "for column_name in column_names:\n",
    "    print(\"Column Name        :\", column_name)\n",
    "    print(\"------------------------------------------\")\n",
    "    print(data[column_name].value_counts(normalize=True, dropna=False)*100)\n",
    "    print('\\n')"
   ]
  },
  {
   "cell_type": "code",
   "execution_count": 13,
   "id": "a9ec8495",
   "metadata": {},
   "outputs": [],
   "source": [
    "#Dropping Flagged Fraud column from data as it looks same as isFraud column\n",
    "data = data.drop(columns= ['isFlaggedFraud'])"
   ]
  },
  {
   "cell_type": "code",
   "execution_count": 14,
   "id": "636c3e5d",
   "metadata": {},
   "outputs": [
    {
     "data": {
      "text/plain": [
       "<function matplotlib.pyplot.show(close=None, block=None)>"
      ]
     },
     "execution_count": 14,
     "metadata": {},
     "output_type": "execute_result"
    },
    {
     "data": {
      "image/png": "[encoded data removed]",
      "text/plain": [
       "<Figure size 1080x1080 with 5 Axes>"
      ]
     },
     "metadata": {
      "needs_background": "light"
     },
     "output_type": "display_data"
    }
   ],
   "source": [
    "#Analysing numerical data\n",
    "plt.figure(figsize=(15,15))\n",
    "plotnumber = 1\n",
    "for column in n_data:\n",
    "    if plotnumber <=5:\n",
    "        ax= plt.subplot(2,3,plotnumber)\n",
    "        sns.distplot(n_data[column])\n",
    "        plt.xlabel(column,fontsize=20)\n",
    "    plotnumber+=1\n",
    "plt.show"
   ]
  },
  {
   "cell_type": "code",
   "execution_count": 15,
   "id": "ae8cda67",
   "metadata": {},
   "outputs": [
    {
     "data": {
      "text/plain": [
       "amount            30.993949\n",
       "oldbalanceOrg      5.249136\n",
       "newbalanceOrig     5.176884\n",
       "oldbalanceDest    19.921758\n",
       "newbalanceDest    19.352302\n",
       "dtype: float64"
      ]
     },
     "execution_count": 15,
     "metadata": {},
     "output_type": "execute_result"
    }
   ],
   "source": [
    "#Data looks skewed\n",
    "#Lets check for skewness\n",
    "n_data.skew()"
   ]
  },
  {
   "cell_type": "code",
   "execution_count": 16,
   "id": "67c252f5",
   "metadata": {},
   "outputs": [],
   "source": [
    "# above data looks highly skewed this could be due to outliers\n",
    "#lets encode the categorical data have a look at the outliers and try to correct the skewness"
   ]
  },
  {
   "cell_type": "code",
   "execution_count": 17,
   "id": "8be6c18e",
   "metadata": {},
   "outputs": [],
   "source": [
    "#Encoding careorical data:\n",
    "L_encoder = LabelEncoder()\n",
    "for i in data.columns:\n",
    "    if data[i].dtypes=='object':\n",
    "        data[i]=L_encoder.fit_transform(data[i].values.reshape(-1,1))"
   ]
  },
  {
   "cell_type": "code",
   "execution_count": 18,
   "id": "16e5d929",
   "metadata": {},
   "outputs": [
    {
     "data": {
      "text/html": [
       "<div>\n",
       "<style scoped>\n",
       "    .dataframe tbody tr th:only-of-type {\n",
       "        vertical-align: middle;\n",
       "    }\n",
       "\n",
       "    .dataframe tbody tr th {\n",
       "        vertical-align: top;\n",
       "    }\n",
       "\n",
       "    .dataframe thead th {\n",
       "        text-align: right;\n",
       "    }\n",
       "</style>\n",
       "<table border=\"1\" class=\"dataframe\">\n",
       "  <thead>\n",
       "    <tr style=\"text-align: right;\">\n",
       "      <th></th>\n",
       "      <th>type</th>\n",
       "      <th>amount</th>\n",
       "      <th>nameOrig</th>\n",
       "      <th>oldbalanceOrg</th>\n",
       "      <th>newbalanceOrig</th>\n",
       "      <th>nameDest</th>\n",
       "      <th>oldbalanceDest</th>\n",
       "      <th>newbalanceDest</th>\n",
       "      <th>isFraud</th>\n",
       "    </tr>\n",
       "  </thead>\n",
       "  <tbody>\n",
       "    <tr>\n",
       "      <th>0</th>\n",
       "      <td>3</td>\n",
       "      <td>9839.64</td>\n",
       "      <td>757869</td>\n",
       "      <td>170136.00</td>\n",
       "      <td>160296.36</td>\n",
       "      <td>1662094</td>\n",
       "      <td>0.00</td>\n",
       "      <td>0.00</td>\n",
       "      <td>0</td>\n",
       "    </tr>\n",
       "    <tr>\n",
       "      <th>1</th>\n",
       "      <td>3</td>\n",
       "      <td>1864.28</td>\n",
       "      <td>2188998</td>\n",
       "      <td>21249.00</td>\n",
       "      <td>19384.72</td>\n",
       "      <td>1733924</td>\n",
       "      <td>0.00</td>\n",
       "      <td>0.00</td>\n",
       "      <td>0</td>\n",
       "    </tr>\n",
       "    <tr>\n",
       "      <th>2</th>\n",
       "      <td>4</td>\n",
       "      <td>181.00</td>\n",
       "      <td>1002156</td>\n",
       "      <td>181.00</td>\n",
       "      <td>0.00</td>\n",
       "      <td>439685</td>\n",
       "      <td>0.00</td>\n",
       "      <td>0.00</td>\n",
       "      <td>1</td>\n",
       "    </tr>\n",
       "    <tr>\n",
       "      <th>3</th>\n",
       "      <td>1</td>\n",
       "      <td>181.00</td>\n",
       "      <td>5828262</td>\n",
       "      <td>181.00</td>\n",
       "      <td>0.00</td>\n",
       "      <td>391696</td>\n",
       "      <td>21182.00</td>\n",
       "      <td>0.00</td>\n",
       "      <td>1</td>\n",
       "    </tr>\n",
       "    <tr>\n",
       "      <th>4</th>\n",
       "      <td>3</td>\n",
       "      <td>11668.14</td>\n",
       "      <td>3445981</td>\n",
       "      <td>41554.00</td>\n",
       "      <td>29885.86</td>\n",
       "      <td>828919</td>\n",
       "      <td>0.00</td>\n",
       "      <td>0.00</td>\n",
       "      <td>0</td>\n",
       "    </tr>\n",
       "    <tr>\n",
       "      <th>...</th>\n",
       "      <td>...</td>\n",
       "      <td>...</td>\n",
       "      <td>...</td>\n",
       "      <td>...</td>\n",
       "      <td>...</td>\n",
       "      <td>...</td>\n",
       "      <td>...</td>\n",
       "      <td>...</td>\n",
       "      <td>...</td>\n",
       "    </tr>\n",
       "    <tr>\n",
       "      <th>6362615</th>\n",
       "      <td>1</td>\n",
       "      <td>339682.13</td>\n",
       "      <td>5651847</td>\n",
       "      <td>339682.13</td>\n",
       "      <td>0.00</td>\n",
       "      <td>505863</td>\n",
       "      <td>0.00</td>\n",
       "      <td>339682.13</td>\n",
       "      <td>1</td>\n",
       "    </tr>\n",
       "    <tr>\n",
       "      <th>6362616</th>\n",
       "      <td>4</td>\n",
       "      <td>6311409.28</td>\n",
       "      <td>1737278</td>\n",
       "      <td>6311409.28</td>\n",
       "      <td>0.00</td>\n",
       "      <td>260949</td>\n",
       "      <td>0.00</td>\n",
       "      <td>0.00</td>\n",
       "      <td>1</td>\n",
       "    </tr>\n",
       "    <tr>\n",
       "      <th>6362617</th>\n",
       "      <td>1</td>\n",
       "      <td>6311409.28</td>\n",
       "      <td>533958</td>\n",
       "      <td>6311409.28</td>\n",
       "      <td>0.00</td>\n",
       "      <td>108224</td>\n",
       "      <td>68488.84</td>\n",
       "      <td>6379898.11</td>\n",
       "      <td>1</td>\n",
       "    </tr>\n",
       "    <tr>\n",
       "      <th>6362618</th>\n",
       "      <td>4</td>\n",
       "      <td>850002.52</td>\n",
       "      <td>2252932</td>\n",
       "      <td>850002.52</td>\n",
       "      <td>0.00</td>\n",
       "      <td>319713</td>\n",
       "      <td>0.00</td>\n",
       "      <td>0.00</td>\n",
       "      <td>1</td>\n",
       "    </tr>\n",
       "    <tr>\n",
       "      <th>6362619</th>\n",
       "      <td>1</td>\n",
       "      <td>850002.52</td>\n",
       "      <td>919229</td>\n",
       "      <td>850002.52</td>\n",
       "      <td>0.00</td>\n",
       "      <td>534595</td>\n",
       "      <td>6510099.11</td>\n",
       "      <td>7360101.63</td>\n",
       "      <td>1</td>\n",
       "    </tr>\n",
       "  </tbody>\n",
       "</table>\n",
       "<p>6362620 rows × 9 columns</p>\n",
       "</div>"
      ],
      "text/plain": [
       "         type      amount  nameOrig  oldbalanceOrg  newbalanceOrig  nameDest  \\\n",
       "0           3     9839.64    757869      170136.00       160296.36   1662094   \n",
       "1           3     1864.28   2188998       21249.00        19384.72   1733924   \n",
       "2           4      181.00   1002156         181.00            0.00    439685   \n",
       "3           1      181.00   5828262         181.00            0.00    391696   \n",
       "4           3    11668.14   3445981       41554.00        29885.86    828919   \n",
       "...       ...         ...       ...            ...             ...       ...   \n",
       "6362615     1   339682.13   5651847      339682.13            0.00    505863   \n",
       "6362616     4  6311409.28   1737278     6311409.28            0.00    260949   \n",
       "6362617     1  6311409.28    533958     6311409.28            0.00    108224   \n",
       "6362618     4   850002.52   2252932      850002.52            0.00    319713   \n",
       "6362619     1   850002.52    919229      850002.52            0.00    534595   \n",
       "\n",
       "         oldbalanceDest  newbalanceDest  isFraud  \n",
       "0                  0.00            0.00        0  \n",
       "1                  0.00            0.00        0  \n",
       "2                  0.00            0.00        1  \n",
       "3              21182.00            0.00        1  \n",
       "4                  0.00            0.00        0  \n",
       "...                 ...             ...      ...  \n",
       "6362615            0.00       339682.13        1  \n",
       "6362616            0.00            0.00        1  \n",
       "6362617        68488.84      6379898.11        1  \n",
       "6362618            0.00            0.00        1  \n",
       "6362619      6510099.11      7360101.63        1  \n",
       "\n",
       "[6362620 rows x 9 columns]"
      ]
     },
     "execution_count": 18,
     "metadata": {},
     "output_type": "execute_result"
    }
   ],
   "source": [
    "data"
   ]
  },
  {
   "cell_type": "code",
   "execution_count": 19,
   "id": "4db16816",
   "metadata": {},
   "outputs": [
    {
     "data": {
      "image/png": "[encoded data removed]",
      "text/plain": [
       "<Figure size 1080x1440 with 5 Axes>"
      ]
     },
     "metadata": {
      "needs_background": "light"
     },
     "output_type": "display_data"
    }
   ],
   "source": [
    "# data is encoded\n",
    "# Visualising outliers using box plot\n",
    "# Checking for outliers using boxplot\n",
    "plt.figure(figsize=(15,20))\n",
    "graph =1\n",
    "for column in n_data:\n",
    "    if graph <=7:\n",
    "        plt.subplot(3,3,graph)\n",
    "        ax=sns.boxplot(data=data[column])\n",
    "        plt.xlabel(column,fontsize=15)\n",
    "    graph+=1\n",
    "plt.show()"
   ]
  },
  {
   "cell_type": "code",
   "execution_count": 20,
   "id": "8b3e14b0",
   "metadata": {},
   "outputs": [],
   "source": [
    "# Above plots show too many outliers will use Power Transformer for scaling data and dealing with outliers"
   ]
  },
  {
   "cell_type": "code",
   "execution_count": 21,
   "id": "21b58882",
   "metadata": {},
   "outputs": [
    {
     "data": {
      "image/png": "[encoded data removed]",
      "text/plain": [
       "<Figure size 864x576 with 2 Axes>"
      ]
     },
     "metadata": {
      "needs_background": "light"
     },
     "output_type": "display_data"
    }
   ],
   "source": [
    "## Plotting heat map to check for multicollinerity and labelv//s feature relationship\n",
    "df_corr = data.corr().abs()\n",
    "plt.figure(figsize=(12,8))\n",
    "sns.heatmap(df_corr, annot= True, annot_kws ={'size':10})\n",
    "plt.show()"
   ]
  },
  {
   "cell_type": "code",
   "execution_count": 22,
   "id": "60eac88a",
   "metadata": {},
   "outputs": [],
   "source": [
    "# from the above heatmap molticollinearity is oberved in columns:\n",
    "#(oldbalorg and newbalorg) and (oldbaldest and newbaldest)\n",
    "# also the above columns have a very weak relation with the label"
   ]
  },
  {
   "cell_type": "code",
   "execution_count": 23,
   "id": "2e17e456",
   "metadata": {},
   "outputs": [],
   "source": [
    "# Using Power Transformer to deal with above issues of outliers and then checking vifs to deal with multicollinearity  "
   ]
  },
  {
   "cell_type": "code",
   "execution_count": 24,
   "id": "f62f3f97",
   "metadata": {},
   "outputs": [],
   "source": [
    "#Dividing data into features and label\n",
    "\n",
    "X = data.drop(columns=['isFraud'])\n",
    "Y= data['isFraud']"
   ]
  },
  {
   "cell_type": "code",
   "execution_count": 25,
   "id": "f43c9dd2",
   "metadata": {},
   "outputs": [
    {
     "data": {
      "text/html": [
       "<div>\n",
       "<style scoped>\n",
       "    .dataframe tbody tr th:only-of-type {\n",
       "        vertical-align: middle;\n",
       "    }\n",
       "\n",
       "    .dataframe tbody tr th {\n",
       "        vertical-align: top;\n",
       "    }\n",
       "\n",
       "    .dataframe thead th {\n",
       "        text-align: right;\n",
       "    }\n",
       "</style>\n",
       "<table border=\"1\" class=\"dataframe\">\n",
       "  <thead>\n",
       "    <tr style=\"text-align: right;\">\n",
       "      <th></th>\n",
       "      <th>type</th>\n",
       "      <th>amount</th>\n",
       "      <th>nameOrig</th>\n",
       "      <th>oldbalanceOrg</th>\n",
       "      <th>newbalanceOrig</th>\n",
       "      <th>nameDest</th>\n",
       "      <th>oldbalanceDest</th>\n",
       "      <th>newbalanceDest</th>\n",
       "    </tr>\n",
       "  </thead>\n",
       "  <tbody>\n",
       "    <tr>\n",
       "      <th>0</th>\n",
       "      <td>0.962058</td>\n",
       "      <td>-0.953597</td>\n",
       "      <td>-1.363264</td>\n",
       "      <td>0.798937</td>\n",
       "      <td>1.113517</td>\n",
       "      <td>1.228507</td>\n",
       "      <td>-1.134046</td>\n",
       "      <td>-1.224196</td>\n",
       "    </tr>\n",
       "    <tr>\n",
       "      <th>1</th>\n",
       "      <td>0.962058</td>\n",
       "      <td>-1.668501</td>\n",
       "      <td>-0.431554</td>\n",
       "      <td>0.377991</td>\n",
       "      <td>0.889466</td>\n",
       "      <td>1.276311</td>\n",
       "      <td>-1.134046</td>\n",
       "      <td>-1.224196</td>\n",
       "    </tr>\n",
       "    <tr>\n",
       "      <th>2</th>\n",
       "      <td>1.475525</td>\n",
       "      <td>-2.469598</td>\n",
       "      <td>-1.181073</td>\n",
       "      <td>-0.478452</td>\n",
       "      <td>-0.863820</td>\n",
       "      <td>-0.075262</td>\n",
       "      <td>-1.134046</td>\n",
       "      <td>-1.224196</td>\n",
       "    </tr>\n",
       "    <tr>\n",
       "      <th>3</th>\n",
       "      <td>-0.387603</td>\n",
       "      <td>-2.469598</td>\n",
       "      <td>1.331794</td>\n",
       "      <td>-0.478452</td>\n",
       "      <td>-0.863820</td>\n",
       "      <td>-0.172189</td>\n",
       "      <td>0.220117</td>\n",
       "      <td>-1.224196</td>\n",
       "    </tr>\n",
       "    <tr>\n",
       "      <th>4</th>\n",
       "      <td>0.962058</td>\n",
       "      <td>-0.872529</td>\n",
       "      <td>0.236471</td>\n",
       "      <td>0.510405</td>\n",
       "      <td>0.938581</td>\n",
       "      <td>0.500819</td>\n",
       "      <td>-1.134046</td>\n",
       "      <td>-1.224196</td>\n",
       "    </tr>\n",
       "    <tr>\n",
       "      <th>...</th>\n",
       "      <td>...</td>\n",
       "      <td>...</td>\n",
       "      <td>...</td>\n",
       "      <td>...</td>\n",
       "      <td>...</td>\n",
       "      <td>...</td>\n",
       "      <td>...</td>\n",
       "      <td>...</td>\n",
       "    </tr>\n",
       "    <tr>\n",
       "      <th>6362615</th>\n",
       "      <td>-0.387603</td>\n",
       "      <td>1.094453</td>\n",
       "      <td>1.255919</td>\n",
       "      <td>0.945695</td>\n",
       "      <td>-0.863820</td>\n",
       "      <td>0.045553</td>\n",
       "      <td>-1.134046</td>\n",
       "      <td>0.575610</td>\n",
       "    </tr>\n",
       "    <tr>\n",
       "      <th>6362616</th>\n",
       "      <td>1.475525</td>\n",
       "      <td>3.516484</td>\n",
       "      <td>-0.697790</td>\n",
       "      <td>1.606241</td>\n",
       "      <td>-0.863820</td>\n",
       "      <td>-0.494624</td>\n",
       "      <td>-1.134046</td>\n",
       "      <td>-1.224196</td>\n",
       "    </tr>\n",
       "    <tr>\n",
       "      <th>6362617</th>\n",
       "      <td>-0.387603</td>\n",
       "      <td>3.516484</td>\n",
       "      <td>-1.546217</td>\n",
       "      <td>1.606241</td>\n",
       "      <td>-0.863820</td>\n",
       "      <td>-1.105113</td>\n",
       "      <td>0.416984</td>\n",
       "      <td>1.263037</td>\n",
       "    </tr>\n",
       "    <tr>\n",
       "      <th>6362618</th>\n",
       "      <td>1.475525</td>\n",
       "      <td>1.771227</td>\n",
       "      <td>-0.395240</td>\n",
       "      <td>1.145886</td>\n",
       "      <td>-0.863820</td>\n",
       "      <td>-0.336855</td>\n",
       "      <td>-1.134046</td>\n",
       "      <td>-1.224196</td>\n",
       "    </tr>\n",
       "    <tr>\n",
       "      <th>6362619</th>\n",
       "      <td>-0.387603</td>\n",
       "      <td>1.771227</td>\n",
       "      <td>-1.241285</td>\n",
       "      <td>1.145886</td>\n",
       "      <td>-0.863820</td>\n",
       "      <td>0.094149</td>\n",
       "      <td>1.272076</td>\n",
       "      <td>1.300188</td>\n",
       "    </tr>\n",
       "  </tbody>\n",
       "</table>\n",
       "<p>6362620 rows × 8 columns</p>\n",
       "</div>"
      ],
      "text/plain": [
       "             type    amount  nameOrig  oldbalanceOrg  newbalanceOrig  \\\n",
       "0        0.962058 -0.953597 -1.363264       0.798937        1.113517   \n",
       "1        0.962058 -1.668501 -0.431554       0.377991        0.889466   \n",
       "2        1.475525 -2.469598 -1.181073      -0.478452       -0.863820   \n",
       "3       -0.387603 -2.469598  1.331794      -0.478452       -0.863820   \n",
       "4        0.962058 -0.872529  0.236471       0.510405        0.938581   \n",
       "...           ...       ...       ...            ...             ...   \n",
       "6362615 -0.387603  1.094453  1.255919       0.945695       -0.863820   \n",
       "6362616  1.475525  3.516484 -0.697790       1.606241       -0.863820   \n",
       "6362617 -0.387603  3.516484 -1.546217       1.606241       -0.863820   \n",
       "6362618  1.475525  1.771227 -0.395240       1.145886       -0.863820   \n",
       "6362619 -0.387603  1.771227 -1.241285       1.145886       -0.863820   \n",
       "\n",
       "         nameDest  oldbalanceDest  newbalanceDest  \n",
       "0        1.228507       -1.134046       -1.224196  \n",
       "1        1.276311       -1.134046       -1.224196  \n",
       "2       -0.075262       -1.134046       -1.224196  \n",
       "3       -0.172189        0.220117       -1.224196  \n",
       "4        0.500819       -1.134046       -1.224196  \n",
       "...           ...             ...             ...  \n",
       "6362615  0.045553       -1.134046        0.575610  \n",
       "6362616 -0.494624       -1.134046       -1.224196  \n",
       "6362617 -1.105113        0.416984        1.263037  \n",
       "6362618 -0.336855       -1.134046       -1.224196  \n",
       "6362619  0.094149        1.272076        1.300188  \n",
       "\n",
       "[6362620 rows x 8 columns]"
      ]
     },
     "execution_count": 25,
     "metadata": {},
     "output_type": "execute_result"
    }
   ],
   "source": [
    "# Using Power Transform to Sclae the data and also treat outliers\n",
    "scaler = PowerTransformer()\n",
    "\n",
    "X_scaled = pd.DataFrame(scaler.fit_transform(X), columns=X.columns)\n",
    "X_scaled"
   ]
  },
  {
   "cell_type": "code",
   "execution_count": 26,
   "id": "cbc92909",
   "metadata": {},
   "outputs": [
    {
     "data": {
      "text/plain": [
       "type             -0.095861\n",
       "amount           -0.019257\n",
       "nameOrig         -0.291611\n",
       "oldbalanceOrg    -0.089773\n",
       "newbalanceOrig    0.333589\n",
       "nameDest         -0.027315\n",
       "oldbalanceDest   -0.162575\n",
       "newbalanceDest   -0.277178\n",
       "dtype: float64"
      ]
     },
     "execution_count": 26,
     "metadata": {},
     "output_type": "execute_result"
    }
   ],
   "source": [
    "#checking for skewness\n",
    "X_scaled.skew()"
   ]
  },
  {
   "cell_type": "code",
   "execution_count": 27,
   "id": "50ac3337",
   "metadata": {},
   "outputs": [],
   "source": [
    "# Skewness is less than +/_ 0.5 for all features"
   ]
  },
  {
   "cell_type": "code",
   "execution_count": 28,
   "id": "b51b4bb2",
   "metadata": {},
   "outputs": [
    {
     "data": {
      "text/html": [
       "<div>\n",
       "<style scoped>\n",
       "    .dataframe tbody tr th:only-of-type {\n",
       "        vertical-align: middle;\n",
       "    }\n",
       "\n",
       "    .dataframe tbody tr th {\n",
       "        vertical-align: top;\n",
       "    }\n",
       "\n",
       "    .dataframe thead th {\n",
       "        text-align: right;\n",
       "    }\n",
       "</style>\n",
       "<table border=\"1\" class=\"dataframe\">\n",
       "  <thead>\n",
       "    <tr style=\"text-align: right;\">\n",
       "      <th></th>\n",
       "      <th>vif</th>\n",
       "      <th>feature</th>\n",
       "    </tr>\n",
       "  </thead>\n",
       "  <tbody>\n",
       "    <tr>\n",
       "      <th>0</th>\n",
       "      <td>2.185489</td>\n",
       "      <td>type</td>\n",
       "    </tr>\n",
       "    <tr>\n",
       "      <th>1</th>\n",
       "      <td>2.056000</td>\n",
       "      <td>amount</td>\n",
       "    </tr>\n",
       "    <tr>\n",
       "      <th>2</th>\n",
       "      <td>1.000001</td>\n",
       "      <td>nameOrig</td>\n",
       "    </tr>\n",
       "    <tr>\n",
       "      <th>3</th>\n",
       "      <td>2.801600</td>\n",
       "      <td>oldbalanceOrg</td>\n",
       "    </tr>\n",
       "    <tr>\n",
       "      <th>4</th>\n",
       "      <td>3.401611</td>\n",
       "      <td>newbalanceOrig</td>\n",
       "    </tr>\n",
       "    <tr>\n",
       "      <th>5</th>\n",
       "      <td>2.462875</td>\n",
       "      <td>nameDest</td>\n",
       "    </tr>\n",
       "    <tr>\n",
       "      <th>6</th>\n",
       "      <td>5.948942</td>\n",
       "      <td>oldbalanceDest</td>\n",
       "    </tr>\n",
       "    <tr>\n",
       "      <th>7</th>\n",
       "      <td>7.403545</td>\n",
       "      <td>newbalanceDest</td>\n",
       "    </tr>\n",
       "  </tbody>\n",
       "</table>\n",
       "</div>"
      ],
      "text/plain": [
       "        vif         feature\n",
       "0  2.185489            type\n",
       "1  2.056000          amount\n",
       "2  1.000001        nameOrig\n",
       "3  2.801600   oldbalanceOrg\n",
       "4  3.401611  newbalanceOrig\n",
       "5  2.462875        nameDest\n",
       "6  5.948942  oldbalanceDest\n",
       "7  7.403545  newbalanceDest"
      ]
     },
     "execution_count": 28,
     "metadata": {},
     "output_type": "execute_result"
    }
   ],
   "source": [
    "#Using VIF to check for muliticolinearity:\n",
    "from statsmodels.stats.outliers_influence import variance_inflation_factor\n",
    "vif= pd.DataFrame()\n",
    "vif['vif']=[variance_inflation_factor(X_scaled,i) for i in range(X_scaled.shape[1])]\n",
    "vif['feature']= X.columns\n",
    "vif"
   ]
  },
  {
   "cell_type": "code",
   "execution_count": 29,
   "id": "77aa520e",
   "metadata": {},
   "outputs": [],
   "source": [
    "#Since vif is less than 10 data looks good"
   ]
  },
  {
   "cell_type": "code",
   "execution_count": 30,
   "id": "87824f26",
   "metadata": {},
   "outputs": [],
   "source": [
    "# Balancing the target column \"isFraud\" using SMOTE on training data\n",
    "from imblearn.over_sampling import SMOTE"
   ]
  },
  {
   "cell_type": "code",
   "execution_count": 31,
   "id": "7f1df610",
   "metadata": {},
   "outputs": [],
   "source": [
    "#traintestsplit\n",
    "x_train,x_test,y_train,y_test = train_test_split (X_scaled,Y, test_size=0.30, random_state = 285)"
   ]
  },
  {
   "cell_type": "code",
   "execution_count": 32,
   "id": "a6d2d2f0",
   "metadata": {},
   "outputs": [],
   "source": [
    "x_train_rs,y_train_rs= SMOTE().fit_resample(x_train,y_train)"
   ]
  },
  {
   "cell_type": "code",
   "execution_count": 33,
   "id": "97781ed4",
   "metadata": {},
   "outputs": [
    {
     "data": {
      "image/png": "[encoded data removed]",
      "text/plain": [
       "<Figure size 432x288 with 1 Axes>"
      ]
     },
     "metadata": {
      "needs_background": "light"
     },
     "output_type": "display_data"
    }
   ],
   "source": [
    "sns.countplot(y_train_rs)\n",
    "plt.show()"
   ]
  },
  {
   "cell_type": "code",
   "execution_count": 34,
   "id": "010440a6",
   "metadata": {},
   "outputs": [],
   "source": [
    "# the target column of training data is balanced"
   ]
  },
  {
   "cell_type": "code",
   "execution_count": 35,
   "id": "145eb539",
   "metadata": {},
   "outputs": [],
   "source": [
    "# Model Selection\n",
    "def model_selection (algorithm, x_train_rs,y_train_rs,x_test,y_test):\n",
    "    algorithm.fit(x_train_rs,y_train_rs)\n",
    "    pred_train = algorithm.predict(x_train_rs)\n",
    "    pred_test = algorithm.predict(x_test)\n",
    "    \n",
    "    print (\"Acuraccy of training model :\",accuracy_score(y_train_rs,pred_train))\n",
    "    print (\"Accuracy of testing model :\",accuracy_score(y_test,pred_test))\n",
    "    print (\"Classification report of training data :\\n\",classification_report(y_train_rs,pred_train))\n",
    "    print (\"Classification report of test data :\\n \",classification_report(y_test,pred_test))\n",
    "    print (\"Confusion Matrix \\n\",confusion_matrix(y_test,pred_test))\n",
    "    print (\"\\n -------------------------------------------------------------\\n\")"
   ]
  },
  {
   "cell_type": "code",
   "execution_count": 37,
   "id": "337baeb1",
   "metadata": {},
   "outputs": [],
   "source": [
    "#Logistic Regression\n",
    "lg= LogisticRegression()\n",
    "rf= RandomForestClassifier(n_estimators=25, max_depth = 15, min_samples_leaf = 250, min_samples_split = 500)\n",
    "svc= SVC(max_iter = 25)"
   ]
  },
  {
   "cell_type": "code",
   "execution_count": 38,
   "id": "91055e83",
   "metadata": {},
   "outputs": [
    {
     "name": "stdout",
     "output_type": "stream",
     "text": [
      "Acuraccy of training model : 0.9393593819448082\n",
      "Accuracy of testing model : 0.9261310592177436\n",
      "Classification report of training data :\n",
      "               precision    recall  f1-score   support\n",
      "\n",
      "           0       0.95      0.93      0.94   4448017\n",
      "           1       0.93      0.95      0.94   4448017\n",
      "\n",
      "    accuracy                           0.94   8896034\n",
      "   macro avg       0.94      0.94      0.94   8896034\n",
      "weighted avg       0.94      0.94      0.94   8896034\n",
      "\n",
      "Classification report of test data :\n",
      "                precision    recall  f1-score   support\n",
      "\n",
      "           0       1.00      0.93      0.96   1906390\n",
      "           1       0.02      0.95      0.03      2396\n",
      "\n",
      "    accuracy                           0.93   1908786\n",
      "   macro avg       0.51      0.94      0.50   1908786\n",
      "weighted avg       1.00      0.93      0.96   1908786\n",
      "\n",
      "Confusion Matrix \n",
      " [[1765520  140870]\n",
      " [    130    2266]]\n",
      "\n",
      " -------------------------------------------------------------\n",
      "\n"
     ]
    }
   ],
   "source": [
    "model_selection(lg,x_train_rs,y_train_rs,x_test,y_test)\n"
   ]
  },
  {
   "cell_type": "code",
   "execution_count": 39,
   "id": "ce8dde2b",
   "metadata": {},
   "outputs": [
    {
     "name": "stdout",
     "output_type": "stream",
     "text": [
      "Acuraccy of training model : 0.9940145237754262\n",
      "Accuracy of testing model : 0.98957242980617\n",
      "Classification report of training data :\n",
      "               precision    recall  f1-score   support\n",
      "\n",
      "           0       1.00      0.99      0.99   4448017\n",
      "           1       0.99      1.00      0.99   4448017\n",
      "\n",
      "    accuracy                           0.99   8896034\n",
      "   macro avg       0.99      0.99      0.99   8896034\n",
      "weighted avg       0.99      0.99      0.99   8896034\n",
      "\n",
      "Classification report of test data :\n",
      "                precision    recall  f1-score   support\n",
      "\n",
      "           0       1.00      0.99      0.99   1906390\n",
      "           1       0.11      0.99      0.19      2396\n",
      "\n",
      "    accuracy                           0.99   1908786\n",
      "   macro avg       0.55      0.99      0.59   1908786\n",
      "weighted avg       1.00      0.99      0.99   1908786\n",
      "\n",
      "Confusion Matrix \n",
      " [[1886510   19880]\n",
      " [     24    2372]]\n",
      "\n",
      " -------------------------------------------------------------\n",
      "\n"
     ]
    }
   ],
   "source": [
    "model_selection(rf,x_train_rs,y_train_rs,x_test,y_test)"
   ]
  },
  {
   "cell_type": "code",
   "execution_count": 40,
   "id": "02fae8f5",
   "metadata": {},
   "outputs": [
    {
     "name": "stdout",
     "output_type": "stream",
     "text": [
      "Acuraccy of training model : 0.6662118197839622\n",
      "Accuracy of testing model : 0.8707309253106424\n",
      "Classification report of training data :\n",
      "               precision    recall  f1-score   support\n",
      "\n",
      "           0       0.62      0.87      0.72   4448017\n",
      "           1       0.78      0.46      0.58   4448017\n",
      "\n",
      "    accuracy                           0.67   8896034\n",
      "   macro avg       0.70      0.67      0.65   8896034\n",
      "weighted avg       0.70      0.67      0.65   8896034\n",
      "\n",
      "Classification report of test data :\n",
      "                precision    recall  f1-score   support\n",
      "\n",
      "           0       1.00      0.87      0.93   1906390\n",
      "           1       0.00      0.48      0.01      2396\n",
      "\n",
      "    accuracy                           0.87   1908786\n",
      "   macro avg       0.50      0.67      0.47   1908786\n",
      "weighted avg       1.00      0.87      0.93   1908786\n",
      "\n",
      "Confusion Matrix \n",
      " [[1660894  245496]\n",
      " [   1251    1145]]\n",
      "\n",
      " -------------------------------------------------------------\n",
      "\n"
     ]
    }
   ],
   "source": [
    "model_selection(svc,x_train_rs,y_train_rs,x_test,y_test)"
   ]
  },
  {
   "cell_type": "code",
   "execution_count": 46,
   "id": "0b505782",
   "metadata": {},
   "outputs": [
    {
     "data": {
      "text/plain": [
       "<function matplotlib.pyplot.show(close=None, block=None)>"
      ]
     },
     "execution_count": 46,
     "metadata": {},
     "output_type": "execute_result"
    },
    {
     "data": {
      "image/png": "[encoded data removed]",
      "text/plain": [
       "<Figure size 432x288 with 1 Axes>"
      ]
     },
     "metadata": {
      "needs_background": "light"
     },
     "output_type": "display_data"
    },
    {
     "data": {
      "image/png": "[encoded data removed]",
      "text/plain": [
       "<Figure size 432x288 with 1 Axes>"
      ]
     },
     "metadata": {
      "needs_background": "light"
     },
     "output_type": "display_data"
    }
   ],
   "source": [
    "#Plotting AUC curves:\n",
    "disp = plot_roc_curve(lg,x_train_rs,y_train_rs)\n",
    "plot_roc_curve(rf,x_train_rs,y_train_rs, ax=disp.ax_)\n",
    "plot_roc_curve(svc,x_train_rs,y_train_rs, ax=disp.ax_)\n",
    "\n",
    "plt.legend(prop={'size':10},loc='lower right')\n",
    "plt.show\n",
    "\n",
    "disp1 = plot_roc_curve(lg,x_test,y_test)\n",
    "plot_roc_curve(rf,x_test,y_test, ax=disp1.ax_)\n",
    "plot_roc_curve(svc,x_test,y_test, ax=disp1.ax_)\n",
    "\n",
    "plt.legend(prop={'size':10},loc='lower right')\n",
    "plt.show"
   ]
  },
  {
   "cell_type": "code",
   "execution_count": 47,
   "id": "c905baa3",
   "metadata": {},
   "outputs": [],
   "source": [
    "#Selecting Random Forest for prediction/fraud detection as it has \n",
    "# 1. The best accuracy \n",
    "# 2. Less number of False Postives and False Negitves\n",
    "# 3. Most AUC"
   ]
  },
  {
   "cell_type": "code",
   "execution_count": 48,
   "id": "4b0051ac",
   "metadata": {},
   "outputs": [],
   "source": [
    "# Saving Model\n",
    "import pickle\n",
    "filename= 'FraudDect.pkl'\n",
    "pickle.dump(rf,open(filename, 'wb'))"
   ]
  },
  {
   "cell_type": "code",
   "execution_count": 49,
   "id": "4300185e",
   "metadata": {},
   "outputs": [
    {
     "data": {
      "text/html": [
       "<div>\n",
       "<style scoped>\n",
       "    .dataframe tbody tr th:only-of-type {\n",
       "        vertical-align: middle;\n",
       "    }\n",
       "\n",
       "    .dataframe tbody tr th {\n",
       "        vertical-align: top;\n",
       "    }\n",
       "\n",
       "    .dataframe thead th {\n",
       "        text-align: right;\n",
       "    }\n",
       "</style>\n",
       "<table border=\"1\" class=\"dataframe\">\n",
       "  <thead>\n",
       "    <tr style=\"text-align: right;\">\n",
       "      <th></th>\n",
       "      <th>Orignal</th>\n",
       "      <th>Predicted</th>\n",
       "    </tr>\n",
       "  </thead>\n",
       "  <tbody>\n",
       "    <tr>\n",
       "      <th>0</th>\n",
       "      <td>0</td>\n",
       "      <td>0</td>\n",
       "    </tr>\n",
       "    <tr>\n",
       "      <th>1</th>\n",
       "      <td>0</td>\n",
       "      <td>0</td>\n",
       "    </tr>\n",
       "    <tr>\n",
       "      <th>2</th>\n",
       "      <td>0</td>\n",
       "      <td>0</td>\n",
       "    </tr>\n",
       "    <tr>\n",
       "      <th>3</th>\n",
       "      <td>0</td>\n",
       "      <td>0</td>\n",
       "    </tr>\n",
       "    <tr>\n",
       "      <th>4</th>\n",
       "      <td>0</td>\n",
       "      <td>0</td>\n",
       "    </tr>\n",
       "    <tr>\n",
       "      <th>...</th>\n",
       "      <td>...</td>\n",
       "      <td>...</td>\n",
       "    </tr>\n",
       "    <tr>\n",
       "      <th>1908781</th>\n",
       "      <td>0</td>\n",
       "      <td>0</td>\n",
       "    </tr>\n",
       "    <tr>\n",
       "      <th>1908782</th>\n",
       "      <td>0</td>\n",
       "      <td>0</td>\n",
       "    </tr>\n",
       "    <tr>\n",
       "      <th>1908783</th>\n",
       "      <td>0</td>\n",
       "      <td>0</td>\n",
       "    </tr>\n",
       "    <tr>\n",
       "      <th>1908784</th>\n",
       "      <td>0</td>\n",
       "      <td>0</td>\n",
       "    </tr>\n",
       "    <tr>\n",
       "      <th>1908785</th>\n",
       "      <td>0</td>\n",
       "      <td>0</td>\n",
       "    </tr>\n",
       "  </tbody>\n",
       "</table>\n",
       "<p>1908786 rows × 2 columns</p>\n",
       "</div>"
      ],
      "text/plain": [
       "         Orignal  Predicted\n",
       "0              0          0\n",
       "1              0          0\n",
       "2              0          0\n",
       "3              0          0\n",
       "4              0          0\n",
       "...          ...        ...\n",
       "1908781        0          0\n",
       "1908782        0          0\n",
       "1908783        0          0\n",
       "1908784        0          0\n",
       "1908785        0          0\n",
       "\n",
       "[1908786 rows x 2 columns]"
      ]
     },
     "execution_count": 49,
     "metadata": {},
     "output_type": "execute_result"
    }
   ],
   "source": [
    "#Prediction\n",
    "a= np.array(y_test)\n",
    "predicted=np.array (rf.predict(x_test))\n",
    "df = pd.DataFrame({\"Orignal\":a, \"Predicted\":predicted}, index = range(len(a)))\n",
    "df"
   ]
  },
  {
   "cell_type": "code",
   "execution_count": 50,
   "id": "636dac75",
   "metadata": {},
   "outputs": [],
   "source": [
    "# Due to time constraint havent done hyperparameter tunning"
   ]
  },
  {
   "cell_type": "code",
   "execution_count": null,
   "id": "26beaab2",
   "metadata": {},
   "outputs": [],
   "source": []
  }
 ],
 "metadata": {
  "kernelspec": {
   "display_name": "Python 3 (ipykernel)",
   "language": "python",
   "name": "python3"
  },
  "language_info": {
   "codemirror_mode": {
    "name": "ipython",
    "version": 3
   },
   "file_extension": ".py",
   "mimetype": "text/x-python",
   "name": "python",
   "nbconvert_exporter": "python",
   "pygments_lexer": "ipython3",
   "version": "3.9.12"
  }
 },
 "nbformat": 4,
 "nbformat_minor": 5
}
