{
 "cells": [
  {
   "cell_type": "markdown",
   "id": "f12e5589",
   "metadata": {},
   "source": [
    "# Loan Application Prediction"
   ]
  },
  {
   "cell_type": "markdown",
   "id": "4a5e0a34",
   "metadata": {},
   "source": [
    "In the given project the dataset contains information like loan_id, gender, marital status,Self_Employed or not, ApplicantIncome,CoApplicant Income,Loan Amount,Loan Teram,Area of Property  etc.., based on which the task is to predict if the Loan application will be approved\n",
    "\n",
    "This is a classification problem\n",
    "Let's import the datset and analysze"
   ]
  },
  {
   "cell_type": "code",
   "execution_count": 1,
   "id": "7079bf1a",
   "metadata": {},
   "outputs": [],
   "source": [
    "import pandas as pd\n",
    "import numpy as np\n",
    "import matplotlib.pyplot as plt\n",
    "%matplotlib inline\n",
    "import seaborn as sns\n",
    "import pickle\n",
    "import statsmodels.api as k\n",
    "from sklearn.preprocessing import LabelEncoder, PowerTransformer,StandardScaler\n",
    "from sklearn.linear_model import LogisticRegression\n",
    "from sklearn.neighbors import KNeighborsClassifier\n",
    "from sklearn.tree import DecisionTreeClassifier\n",
    "from sklearn.model_selection import train_test_split, GridSearchCV\n",
    "from sklearn.ensemble import RandomForestClassifier\n",
    "from sklearn.svm import SVC\n",
    "from sklearn.ensemble import AdaBoostClassifier\n",
    "import xgboost as xgb\n",
    "\n",
    "from sklearn.metrics import accuracy_score, confusion_matrix, roc_curve, roc_auc_score, classification_report, auc\n",
    "import warnings\n",
    "warnings.filterwarnings(\"ignore\")"
   ]
  },
  {
   "cell_type": "code",
   "execution_count": 2,
   "id": "9c6a830b",
   "metadata": {},
   "outputs": [
    {
     "data": {
      "text/html": [
       "<div>\n",
       "<style scoped>\n",
       "    .dataframe tbody tr th:only-of-type {\n",
       "        vertical-align: middle;\n",
       "    }\n",
       "\n",
       "    .dataframe tbody tr th {\n",
       "        vertical-align: top;\n",
       "    }\n",
       "\n",
       "    .dataframe thead th {\n",
       "        text-align: right;\n",
       "    }\n",
       "</style>\n",
       "<table border=\"1\" class=\"dataframe\">\n",
       "  <thead>\n",
       "    <tr style=\"text-align: right;\">\n",
       "      <th></th>\n",
       "      <th>Loan_ID</th>\n",
       "      <th>Gender</th>\n",
       "      <th>Married</th>\n",
       "      <th>Dependents</th>\n",
       "      <th>Education</th>\n",
       "      <th>Self_Employed</th>\n",
       "      <th>ApplicantIncome</th>\n",
       "      <th>CoapplicantIncome</th>\n",
       "      <th>LoanAmount</th>\n",
       "      <th>Loan_Amount_Term</th>\n",
       "      <th>Credit_History</th>\n",
       "      <th>Property_Area</th>\n",
       "      <th>Loan_Status</th>\n",
       "    </tr>\n",
       "  </thead>\n",
       "  <tbody>\n",
       "    <tr>\n",
       "      <th>0</th>\n",
       "      <td>LP001002</td>\n",
       "      <td>Male</td>\n",
       "      <td>No</td>\n",
       "      <td>0</td>\n",
       "      <td>Graduate</td>\n",
       "      <td>No</td>\n",
       "      <td>5849</td>\n",
       "      <td>0.0</td>\n",
       "      <td>NaN</td>\n",
       "      <td>360.0</td>\n",
       "      <td>1.0</td>\n",
       "      <td>Urban</td>\n",
       "      <td>Y</td>\n",
       "    </tr>\n",
       "    <tr>\n",
       "      <th>1</th>\n",
       "      <td>LP001003</td>\n",
       "      <td>Male</td>\n",
       "      <td>Yes</td>\n",
       "      <td>1</td>\n",
       "      <td>Graduate</td>\n",
       "      <td>No</td>\n",
       "      <td>4583</td>\n",
       "      <td>1508.0</td>\n",
       "      <td>128.0</td>\n",
       "      <td>360.0</td>\n",
       "      <td>1.0</td>\n",
       "      <td>Rural</td>\n",
       "      <td>N</td>\n",
       "    </tr>\n",
       "    <tr>\n",
       "      <th>2</th>\n",
       "      <td>LP001005</td>\n",
       "      <td>Male</td>\n",
       "      <td>Yes</td>\n",
       "      <td>0</td>\n",
       "      <td>Graduate</td>\n",
       "      <td>Yes</td>\n",
       "      <td>3000</td>\n",
       "      <td>0.0</td>\n",
       "      <td>66.0</td>\n",
       "      <td>360.0</td>\n",
       "      <td>1.0</td>\n",
       "      <td>Urban</td>\n",
       "      <td>Y</td>\n",
       "    </tr>\n",
       "    <tr>\n",
       "      <th>3</th>\n",
       "      <td>LP001006</td>\n",
       "      <td>Male</td>\n",
       "      <td>Yes</td>\n",
       "      <td>0</td>\n",
       "      <td>Not Graduate</td>\n",
       "      <td>No</td>\n",
       "      <td>2583</td>\n",
       "      <td>2358.0</td>\n",
       "      <td>120.0</td>\n",
       "      <td>360.0</td>\n",
       "      <td>1.0</td>\n",
       "      <td>Urban</td>\n",
       "      <td>Y</td>\n",
       "    </tr>\n",
       "    <tr>\n",
       "      <th>4</th>\n",
       "      <td>LP001008</td>\n",
       "      <td>Male</td>\n",
       "      <td>No</td>\n",
       "      <td>0</td>\n",
       "      <td>Graduate</td>\n",
       "      <td>No</td>\n",
       "      <td>6000</td>\n",
       "      <td>0.0</td>\n",
       "      <td>141.0</td>\n",
       "      <td>360.0</td>\n",
       "      <td>1.0</td>\n",
       "      <td>Urban</td>\n",
       "      <td>Y</td>\n",
       "    </tr>\n",
       "    <tr>\n",
       "      <th>...</th>\n",
       "      <td>...</td>\n",
       "      <td>...</td>\n",
       "      <td>...</td>\n",
       "      <td>...</td>\n",
       "      <td>...</td>\n",
       "      <td>...</td>\n",
       "      <td>...</td>\n",
       "      <td>...</td>\n",
       "      <td>...</td>\n",
       "      <td>...</td>\n",
       "      <td>...</td>\n",
       "      <td>...</td>\n",
       "      <td>...</td>\n",
       "    </tr>\n",
       "    <tr>\n",
       "      <th>609</th>\n",
       "      <td>LP002978</td>\n",
       "      <td>Female</td>\n",
       "      <td>No</td>\n",
       "      <td>0</td>\n",
       "      <td>Graduate</td>\n",
       "      <td>No</td>\n",
       "      <td>2900</td>\n",
       "      <td>0.0</td>\n",
       "      <td>71.0</td>\n",
       "      <td>360.0</td>\n",
       "      <td>1.0</td>\n",
       "      <td>Rural</td>\n",
       "      <td>Y</td>\n",
       "    </tr>\n",
       "    <tr>\n",
       "      <th>610</th>\n",
       "      <td>LP002979</td>\n",
       "      <td>Male</td>\n",
       "      <td>Yes</td>\n",
       "      <td>3+</td>\n",
       "      <td>Graduate</td>\n",
       "      <td>No</td>\n",
       "      <td>4106</td>\n",
       "      <td>0.0</td>\n",
       "      <td>40.0</td>\n",
       "      <td>180.0</td>\n",
       "      <td>1.0</td>\n",
       "      <td>Rural</td>\n",
       "      <td>Y</td>\n",
       "    </tr>\n",
       "    <tr>\n",
       "      <th>611</th>\n",
       "      <td>LP002983</td>\n",
       "      <td>Male</td>\n",
       "      <td>Yes</td>\n",
       "      <td>1</td>\n",
       "      <td>Graduate</td>\n",
       "      <td>No</td>\n",
       "      <td>8072</td>\n",
       "      <td>240.0</td>\n",
       "      <td>253.0</td>\n",
       "      <td>360.0</td>\n",
       "      <td>1.0</td>\n",
       "      <td>Urban</td>\n",
       "      <td>Y</td>\n",
       "    </tr>\n",
       "    <tr>\n",
       "      <th>612</th>\n",
       "      <td>LP002984</td>\n",
       "      <td>Male</td>\n",
       "      <td>Yes</td>\n",
       "      <td>2</td>\n",
       "      <td>Graduate</td>\n",
       "      <td>No</td>\n",
       "      <td>7583</td>\n",
       "      <td>0.0</td>\n",
       "      <td>187.0</td>\n",
       "      <td>360.0</td>\n",
       "      <td>1.0</td>\n",
       "      <td>Urban</td>\n",
       "      <td>Y</td>\n",
       "    </tr>\n",
       "    <tr>\n",
       "      <th>613</th>\n",
       "      <td>LP002990</td>\n",
       "      <td>Female</td>\n",
       "      <td>No</td>\n",
       "      <td>0</td>\n",
       "      <td>Graduate</td>\n",
       "      <td>Yes</td>\n",
       "      <td>4583</td>\n",
       "      <td>0.0</td>\n",
       "      <td>133.0</td>\n",
       "      <td>360.0</td>\n",
       "      <td>0.0</td>\n",
       "      <td>Semiurban</td>\n",
       "      <td>N</td>\n",
       "    </tr>\n",
       "  </tbody>\n",
       "</table>\n",
       "<p>614 rows × 13 columns</p>\n",
       "</div>"
      ],
      "text/plain": [
       "      Loan_ID  Gender Married Dependents     Education Self_Employed  \\\n",
       "0    LP001002    Male      No          0      Graduate            No   \n",
       "1    LP001003    Male     Yes          1      Graduate            No   \n",
       "2    LP001005    Male     Yes          0      Graduate           Yes   \n",
       "3    LP001006    Male     Yes          0  Not Graduate            No   \n",
       "4    LP001008    Male      No          0      Graduate            No   \n",
       "..        ...     ...     ...        ...           ...           ...   \n",
       "609  LP002978  Female      No          0      Graduate            No   \n",
       "610  LP002979    Male     Yes         3+      Graduate            No   \n",
       "611  LP002983    Male     Yes          1      Graduate            No   \n",
       "612  LP002984    Male     Yes          2      Graduate            No   \n",
       "613  LP002990  Female      No          0      Graduate           Yes   \n",
       "\n",
       "     ApplicantIncome  CoapplicantIncome  LoanAmount  Loan_Amount_Term  \\\n",
       "0               5849                0.0         NaN             360.0   \n",
       "1               4583             1508.0       128.0             360.0   \n",
       "2               3000                0.0        66.0             360.0   \n",
       "3               2583             2358.0       120.0             360.0   \n",
       "4               6000                0.0       141.0             360.0   \n",
       "..               ...                ...         ...               ...   \n",
       "609             2900                0.0        71.0             360.0   \n",
       "610             4106                0.0        40.0             180.0   \n",
       "611             8072              240.0       253.0             360.0   \n",
       "612             7583                0.0       187.0             360.0   \n",
       "613             4583                0.0       133.0             360.0   \n",
       "\n",
       "     Credit_History Property_Area Loan_Status  \n",
       "0               1.0         Urban           Y  \n",
       "1               1.0         Rural           N  \n",
       "2               1.0         Urban           Y  \n",
       "3               1.0         Urban           Y  \n",
       "4               1.0         Urban           Y  \n",
       "..              ...           ...         ...  \n",
       "609             1.0         Rural           Y  \n",
       "610             1.0         Rural           Y  \n",
       "611             1.0         Urban           Y  \n",
       "612             1.0         Urban           Y  \n",
       "613             0.0     Semiurban           N  \n",
       "\n",
       "[614 rows x 13 columns]"
      ]
     },
     "execution_count": 2,
     "metadata": {},
     "output_type": "execute_result"
    }
   ],
   "source": [
    "data = pd.read_csv('https://raw.githubusercontent.com/dsrscientist/DSData/master/loan_prediction.csv')\n",
    "data"
   ]
  },
  {
   "cell_type": "code",
   "execution_count": 3,
   "id": "0c5bb952",
   "metadata": {},
   "outputs": [
    {
     "data": {
      "text/plain": [
       "(614, 13)"
      ]
     },
     "execution_count": 3,
     "metadata": {},
     "output_type": "execute_result"
    }
   ],
   "source": [
    "# Removing duplicates if any:\n",
    "data=data.drop_duplicates(keep='first')\n",
    "data.shape"
   ]
  },
  {
   "cell_type": "markdown",
   "id": "bc9c7378",
   "metadata": {},
   "source": [
    "The dataset has 614 rows and 13 columns \n",
    "\n",
    "No duplicates found"
   ]
  },
  {
   "cell_type": "code",
   "execution_count": 4,
   "id": "3e3664dd",
   "metadata": {},
   "outputs": [
    {
     "name": "stdout",
     "output_type": "stream",
     "text": [
      "<class 'pandas.core.frame.DataFrame'>\n",
      "Int64Index: 614 entries, 0 to 613\n",
      "Data columns (total 13 columns):\n",
      " #   Column             Non-Null Count  Dtype  \n",
      "---  ------             --------------  -----  \n",
      " 0   Loan_ID            614 non-null    object \n",
      " 1   Gender             601 non-null    object \n",
      " 2   Married            611 non-null    object \n",
      " 3   Dependents         599 non-null    object \n",
      " 4   Education          614 non-null    object \n",
      " 5   Self_Employed      582 non-null    object \n",
      " 6   ApplicantIncome    614 non-null    int64  \n",
      " 7   CoapplicantIncome  614 non-null    float64\n",
      " 8   LoanAmount         592 non-null    float64\n",
      " 9   Loan_Amount_Term   600 non-null    float64\n",
      " 10  Credit_History     564 non-null    float64\n",
      " 11  Property_Area      614 non-null    object \n",
      " 12  Loan_Status        614 non-null    object \n",
      "dtypes: float64(4), int64(1), object(8)\n",
      "memory usage: 67.2+ KB\n"
     ]
    }
   ],
   "source": [
    "# looking at info\n",
    "data.info()"
   ]
  },
  {
   "cell_type": "markdown",
   "id": "0363b7ce",
   "metadata": {},
   "source": [
    "The data has both continuous and categorical data\n",
    "\n",
    "There are also null values present in the data"
   ]
  },
  {
   "cell_type": "code",
   "execution_count": 5,
   "id": "29f331dc",
   "metadata": {},
   "outputs": [
    {
     "data": {
      "text/html": [
       "<div>\n",
       "<style scoped>\n",
       "    .dataframe tbody tr th:only-of-type {\n",
       "        vertical-align: middle;\n",
       "    }\n",
       "\n",
       "    .dataframe tbody tr th {\n",
       "        vertical-align: top;\n",
       "    }\n",
       "\n",
       "    .dataframe thead th {\n",
       "        text-align: right;\n",
       "    }\n",
       "</style>\n",
       "<table border=\"1\" class=\"dataframe\">\n",
       "  <thead>\n",
       "    <tr style=\"text-align: right;\">\n",
       "      <th></th>\n",
       "      <th>count</th>\n",
       "      <th>mean</th>\n",
       "      <th>std</th>\n",
       "      <th>min</th>\n",
       "      <th>25%</th>\n",
       "      <th>50%</th>\n",
       "      <th>75%</th>\n",
       "      <th>max</th>\n",
       "    </tr>\n",
       "  </thead>\n",
       "  <tbody>\n",
       "    <tr>\n",
       "      <th>ApplicantIncome</th>\n",
       "      <td>614.0</td>\n",
       "      <td>5403.459283</td>\n",
       "      <td>6109.041673</td>\n",
       "      <td>150.0</td>\n",
       "      <td>2877.5</td>\n",
       "      <td>3812.5</td>\n",
       "      <td>5795.00</td>\n",
       "      <td>81000.0</td>\n",
       "    </tr>\n",
       "    <tr>\n",
       "      <th>CoapplicantIncome</th>\n",
       "      <td>614.0</td>\n",
       "      <td>1621.245798</td>\n",
       "      <td>2926.248369</td>\n",
       "      <td>0.0</td>\n",
       "      <td>0.0</td>\n",
       "      <td>1188.5</td>\n",
       "      <td>2297.25</td>\n",
       "      <td>41667.0</td>\n",
       "    </tr>\n",
       "    <tr>\n",
       "      <th>LoanAmount</th>\n",
       "      <td>592.0</td>\n",
       "      <td>146.412162</td>\n",
       "      <td>85.587325</td>\n",
       "      <td>9.0</td>\n",
       "      <td>100.0</td>\n",
       "      <td>128.0</td>\n",
       "      <td>168.00</td>\n",
       "      <td>700.0</td>\n",
       "    </tr>\n",
       "    <tr>\n",
       "      <th>Loan_Amount_Term</th>\n",
       "      <td>600.0</td>\n",
       "      <td>342.000000</td>\n",
       "      <td>65.120410</td>\n",
       "      <td>12.0</td>\n",
       "      <td>360.0</td>\n",
       "      <td>360.0</td>\n",
       "      <td>360.00</td>\n",
       "      <td>480.0</td>\n",
       "    </tr>\n",
       "    <tr>\n",
       "      <th>Credit_History</th>\n",
       "      <td>564.0</td>\n",
       "      <td>0.842199</td>\n",
       "      <td>0.364878</td>\n",
       "      <td>0.0</td>\n",
       "      <td>1.0</td>\n",
       "      <td>1.0</td>\n",
       "      <td>1.00</td>\n",
       "      <td>1.0</td>\n",
       "    </tr>\n",
       "  </tbody>\n",
       "</table>\n",
       "</div>"
      ],
      "text/plain": [
       "                   count         mean          std    min     25%     50%  \\\n",
       "ApplicantIncome    614.0  5403.459283  6109.041673  150.0  2877.5  3812.5   \n",
       "CoapplicantIncome  614.0  1621.245798  2926.248369    0.0     0.0  1188.5   \n",
       "LoanAmount         592.0   146.412162    85.587325    9.0   100.0   128.0   \n",
       "Loan_Amount_Term   600.0   342.000000    65.120410   12.0   360.0   360.0   \n",
       "Credit_History     564.0     0.842199     0.364878    0.0     1.0     1.0   \n",
       "\n",
       "                       75%      max  \n",
       "ApplicantIncome    5795.00  81000.0  \n",
       "CoapplicantIncome  2297.25  41667.0  \n",
       "LoanAmount          168.00    700.0  \n",
       "Loan_Amount_Term    360.00    480.0  \n",
       "Credit_History        1.00      1.0  "
      ]
     },
     "execution_count": 5,
     "metadata": {},
     "output_type": "execute_result"
    }
   ],
   "source": [
    "data.describe().T"
   ]
  },
  {
   "cell_type": "markdown",
   "id": "3c6ead23",
   "metadata": {},
   "source": [
    "Data is randomly distributed with missing values, outliers and could be skewed\n",
    "Let's fix the dataset"
   ]
  },
  {
   "cell_type": "code",
   "execution_count": 6,
   "id": "1c33e6b1",
   "metadata": {},
   "outputs": [
    {
     "data": {
      "text/plain": [
       "Loan_ID               0\n",
       "Gender               13\n",
       "Married               3\n",
       "Dependents           15\n",
       "Education             0\n",
       "Self_Employed        32\n",
       "ApplicantIncome       0\n",
       "CoapplicantIncome     0\n",
       "LoanAmount           22\n",
       "Loan_Amount_Term     14\n",
       "Credit_History       50\n",
       "Property_Area         0\n",
       "Loan_Status           0\n",
       "dtype: int64"
      ]
     },
     "execution_count": 6,
     "metadata": {},
     "output_type": "execute_result"
    }
   ],
   "source": [
    "# checking for missing values\n",
    "data.isna().sum()"
   ]
  },
  {
   "cell_type": "markdown",
   "id": "5fff68d8",
   "metadata": {},
   "source": [
    "The dataset has null values which need to be imputed \n",
    "Data imputation will be done in futhur steps"
   ]
  },
  {
   "cell_type": "markdown",
   "id": "fc4d4476",
   "metadata": {},
   "source": [
    "The dataset has both numerical and categorical data and null values"
   ]
  },
  {
   "cell_type": "code",
   "execution_count": 7,
   "id": "19276140",
   "metadata": {},
   "outputs": [
    {
     "data": {
      "text/plain": [
       "Loan_ID              614\n",
       "Gender                 2\n",
       "Married                2\n",
       "Dependents             4\n",
       "Education              2\n",
       "Self_Employed          2\n",
       "ApplicantIncome      505\n",
       "CoapplicantIncome    287\n",
       "LoanAmount           203\n",
       "Loan_Amount_Term      10\n",
       "Credit_History         2\n",
       "Property_Area          3\n",
       "Loan_Status            2\n",
       "dtype: int64"
      ]
     },
     "execution_count": 7,
     "metadata": {},
     "output_type": "execute_result"
    }
   ],
   "source": [
    "data.nunique()"
   ]
  },
  {
   "cell_type": "markdown",
   "id": "a7a6bdcd",
   "metadata": {},
   "source": [
    "Dropping loan id fromthe dataset as it is unique for every applicant and plays no role in our analysis"
   ]
  },
  {
   "cell_type": "code",
   "execution_count": 8,
   "id": "84a42f5e",
   "metadata": {},
   "outputs": [
    {
     "data": {
      "text/plain": [
       "(614, 12)"
      ]
     },
     "execution_count": 8,
     "metadata": {},
     "output_type": "execute_result"
    }
   ],
   "source": [
    "data= data.drop(columns=['Loan_ID'])\n",
    "data.shape"
   ]
  },
  {
   "cell_type": "code",
   "execution_count": 9,
   "id": "35e59bbc",
   "metadata": {},
   "outputs": [],
   "source": [
    "#Imputing missing values:\n",
    "# Simple Imputer\n",
    "from sklearn.impute import SimpleImputer"
   ]
  },
  {
   "cell_type": "code",
   "execution_count": 10,
   "id": "52bae01e",
   "metadata": {},
   "outputs": [],
   "source": [
    "imputer = SimpleImputer(missing_values=np.NaN, strategy='most_frequent')\n",
    "data.Gender=imputer.fit_transform(data['Gender'].values.reshape(-1,1))[:,0]\n",
    "data.Married=imputer.fit_transform(data['Married'].values.reshape(-1,1))[:,0]\n",
    "data.Dependents=imputer.fit_transform(data['Dependents'].values.reshape(-1,1))[:,0]\n",
    "data.Self_Employed=imputer.fit_transform(data['Self_Employed'].values.reshape(-1,1))[:,0]\n",
    "data.Credit_History=imputer.fit_transform(data['Credit_History'].values.reshape(-1,1))[:,0]\n",
    "data.Loan_Amount_Term=imputer.fit_transform(data['Loan_Amount_Term'].values.reshape(-1,1))[:,0]\n",
    "\n",
    "imputer = SimpleImputer(missing_values=np.NaN, strategy='mean')\n",
    "data.LoanAmount=imputer.fit_transform(data['LoanAmount'].values.reshape(-1,1))[:,0]\n",
    "\n",
    "\n"
   ]
  },
  {
   "cell_type": "code",
   "execution_count": 11,
   "id": "27d3a643",
   "metadata": {},
   "outputs": [
    {
     "data": {
      "text/plain": [
       "Gender               0\n",
       "Married              0\n",
       "Dependents           0\n",
       "Education            0\n",
       "Self_Employed        0\n",
       "ApplicantIncome      0\n",
       "CoapplicantIncome    0\n",
       "LoanAmount           0\n",
       "Loan_Amount_Term     0\n",
       "Credit_History       0\n",
       "Property_Area        0\n",
       "Loan_Status          0\n",
       "dtype: int64"
      ]
     },
     "execution_count": 11,
     "metadata": {},
     "output_type": "execute_result"
    }
   ],
   "source": [
    "data.isna().sum()"
   ]
  },
  {
   "cell_type": "code",
   "execution_count": 12,
   "id": "3d09d99a",
   "metadata": {},
   "outputs": [
    {
     "data": {
      "text/html": [
       "<div>\n",
       "<style scoped>\n",
       "    .dataframe tbody tr th:only-of-type {\n",
       "        vertical-align: middle;\n",
       "    }\n",
       "\n",
       "    .dataframe tbody tr th {\n",
       "        vertical-align: top;\n",
       "    }\n",
       "\n",
       "    .dataframe thead th {\n",
       "        text-align: right;\n",
       "    }\n",
       "</style>\n",
       "<table border=\"1\" class=\"dataframe\">\n",
       "  <thead>\n",
       "    <tr style=\"text-align: right;\">\n",
       "      <th></th>\n",
       "      <th>Gender</th>\n",
       "      <th>Married</th>\n",
       "      <th>Dependents</th>\n",
       "      <th>Education</th>\n",
       "      <th>Self_Employed</th>\n",
       "      <th>ApplicantIncome</th>\n",
       "      <th>CoapplicantIncome</th>\n",
       "      <th>LoanAmount</th>\n",
       "      <th>Loan_Amount_Term</th>\n",
       "      <th>Credit_History</th>\n",
       "      <th>Property_Area</th>\n",
       "      <th>Loan_Status</th>\n",
       "    </tr>\n",
       "  </thead>\n",
       "  <tbody>\n",
       "    <tr>\n",
       "      <th>0</th>\n",
       "      <td>Male</td>\n",
       "      <td>No</td>\n",
       "      <td>0</td>\n",
       "      <td>Graduate</td>\n",
       "      <td>No</td>\n",
       "      <td>5849</td>\n",
       "      <td>0.0</td>\n",
       "      <td>146.412162</td>\n",
       "      <td>360.0</td>\n",
       "      <td>1.0</td>\n",
       "      <td>Urban</td>\n",
       "      <td>Y</td>\n",
       "    </tr>\n",
       "    <tr>\n",
       "      <th>1</th>\n",
       "      <td>Male</td>\n",
       "      <td>Yes</td>\n",
       "      <td>1</td>\n",
       "      <td>Graduate</td>\n",
       "      <td>No</td>\n",
       "      <td>4583</td>\n",
       "      <td>1508.0</td>\n",
       "      <td>128.000000</td>\n",
       "      <td>360.0</td>\n",
       "      <td>1.0</td>\n",
       "      <td>Rural</td>\n",
       "      <td>N</td>\n",
       "    </tr>\n",
       "    <tr>\n",
       "      <th>2</th>\n",
       "      <td>Male</td>\n",
       "      <td>Yes</td>\n",
       "      <td>0</td>\n",
       "      <td>Graduate</td>\n",
       "      <td>Yes</td>\n",
       "      <td>3000</td>\n",
       "      <td>0.0</td>\n",
       "      <td>66.000000</td>\n",
       "      <td>360.0</td>\n",
       "      <td>1.0</td>\n",
       "      <td>Urban</td>\n",
       "      <td>Y</td>\n",
       "    </tr>\n",
       "    <tr>\n",
       "      <th>3</th>\n",
       "      <td>Male</td>\n",
       "      <td>Yes</td>\n",
       "      <td>0</td>\n",
       "      <td>Not Graduate</td>\n",
       "      <td>No</td>\n",
       "      <td>2583</td>\n",
       "      <td>2358.0</td>\n",
       "      <td>120.000000</td>\n",
       "      <td>360.0</td>\n",
       "      <td>1.0</td>\n",
       "      <td>Urban</td>\n",
       "      <td>Y</td>\n",
       "    </tr>\n",
       "    <tr>\n",
       "      <th>4</th>\n",
       "      <td>Male</td>\n",
       "      <td>No</td>\n",
       "      <td>0</td>\n",
       "      <td>Graduate</td>\n",
       "      <td>No</td>\n",
       "      <td>6000</td>\n",
       "      <td>0.0</td>\n",
       "      <td>141.000000</td>\n",
       "      <td>360.0</td>\n",
       "      <td>1.0</td>\n",
       "      <td>Urban</td>\n",
       "      <td>Y</td>\n",
       "    </tr>\n",
       "    <tr>\n",
       "      <th>...</th>\n",
       "      <td>...</td>\n",
       "      <td>...</td>\n",
       "      <td>...</td>\n",
       "      <td>...</td>\n",
       "      <td>...</td>\n",
       "      <td>...</td>\n",
       "      <td>...</td>\n",
       "      <td>...</td>\n",
       "      <td>...</td>\n",
       "      <td>...</td>\n",
       "      <td>...</td>\n",
       "      <td>...</td>\n",
       "    </tr>\n",
       "    <tr>\n",
       "      <th>609</th>\n",
       "      <td>Female</td>\n",
       "      <td>No</td>\n",
       "      <td>0</td>\n",
       "      <td>Graduate</td>\n",
       "      <td>No</td>\n",
       "      <td>2900</td>\n",
       "      <td>0.0</td>\n",
       "      <td>71.000000</td>\n",
       "      <td>360.0</td>\n",
       "      <td>1.0</td>\n",
       "      <td>Rural</td>\n",
       "      <td>Y</td>\n",
       "    </tr>\n",
       "    <tr>\n",
       "      <th>610</th>\n",
       "      <td>Male</td>\n",
       "      <td>Yes</td>\n",
       "      <td>3+</td>\n",
       "      <td>Graduate</td>\n",
       "      <td>No</td>\n",
       "      <td>4106</td>\n",
       "      <td>0.0</td>\n",
       "      <td>40.000000</td>\n",
       "      <td>180.0</td>\n",
       "      <td>1.0</td>\n",
       "      <td>Rural</td>\n",
       "      <td>Y</td>\n",
       "    </tr>\n",
       "    <tr>\n",
       "      <th>611</th>\n",
       "      <td>Male</td>\n",
       "      <td>Yes</td>\n",
       "      <td>1</td>\n",
       "      <td>Graduate</td>\n",
       "      <td>No</td>\n",
       "      <td>8072</td>\n",
       "      <td>240.0</td>\n",
       "      <td>253.000000</td>\n",
       "      <td>360.0</td>\n",
       "      <td>1.0</td>\n",
       "      <td>Urban</td>\n",
       "      <td>Y</td>\n",
       "    </tr>\n",
       "    <tr>\n",
       "      <th>612</th>\n",
       "      <td>Male</td>\n",
       "      <td>Yes</td>\n",
       "      <td>2</td>\n",
       "      <td>Graduate</td>\n",
       "      <td>No</td>\n",
       "      <td>7583</td>\n",
       "      <td>0.0</td>\n",
       "      <td>187.000000</td>\n",
       "      <td>360.0</td>\n",
       "      <td>1.0</td>\n",
       "      <td>Urban</td>\n",
       "      <td>Y</td>\n",
       "    </tr>\n",
       "    <tr>\n",
       "      <th>613</th>\n",
       "      <td>Female</td>\n",
       "      <td>No</td>\n",
       "      <td>0</td>\n",
       "      <td>Graduate</td>\n",
       "      <td>Yes</td>\n",
       "      <td>4583</td>\n",
       "      <td>0.0</td>\n",
       "      <td>133.000000</td>\n",
       "      <td>360.0</td>\n",
       "      <td>0.0</td>\n",
       "      <td>Semiurban</td>\n",
       "      <td>N</td>\n",
       "    </tr>\n",
       "  </tbody>\n",
       "</table>\n",
       "<p>614 rows × 12 columns</p>\n",
       "</div>"
      ],
      "text/plain": [
       "     Gender Married Dependents     Education Self_Employed  ApplicantIncome  \\\n",
       "0      Male      No          0      Graduate            No             5849   \n",
       "1      Male     Yes          1      Graduate            No             4583   \n",
       "2      Male     Yes          0      Graduate           Yes             3000   \n",
       "3      Male     Yes          0  Not Graduate            No             2583   \n",
       "4      Male      No          0      Graduate            No             6000   \n",
       "..      ...     ...        ...           ...           ...              ...   \n",
       "609  Female      No          0      Graduate            No             2900   \n",
       "610    Male     Yes         3+      Graduate            No             4106   \n",
       "611    Male     Yes          1      Graduate            No             8072   \n",
       "612    Male     Yes          2      Graduate            No             7583   \n",
       "613  Female      No          0      Graduate           Yes             4583   \n",
       "\n",
       "     CoapplicantIncome  LoanAmount  Loan_Amount_Term  Credit_History  \\\n",
       "0                  0.0  146.412162             360.0             1.0   \n",
       "1               1508.0  128.000000             360.0             1.0   \n",
       "2                  0.0   66.000000             360.0             1.0   \n",
       "3               2358.0  120.000000             360.0             1.0   \n",
       "4                  0.0  141.000000             360.0             1.0   \n",
       "..                 ...         ...               ...             ...   \n",
       "609                0.0   71.000000             360.0             1.0   \n",
       "610                0.0   40.000000             180.0             1.0   \n",
       "611              240.0  253.000000             360.0             1.0   \n",
       "612                0.0  187.000000             360.0             1.0   \n",
       "613                0.0  133.000000             360.0             0.0   \n",
       "\n",
       "    Property_Area Loan_Status  \n",
       "0           Urban           Y  \n",
       "1           Rural           N  \n",
       "2           Urban           Y  \n",
       "3           Urban           Y  \n",
       "4           Urban           Y  \n",
       "..            ...         ...  \n",
       "609         Rural           Y  \n",
       "610         Rural           Y  \n",
       "611         Urban           Y  \n",
       "612         Urban           Y  \n",
       "613     Semiurban           N  \n",
       "\n",
       "[614 rows x 12 columns]"
      ]
     },
     "execution_count": 12,
     "metadata": {},
     "output_type": "execute_result"
    }
   ],
   "source": [
    "data"
   ]
  },
  {
   "cell_type": "markdown",
   "id": "f419faa0",
   "metadata": {},
   "source": [
    "All missing values have been imputed\n",
    "\n",
    "There are no missing values in the dataset"
   ]
  },
  {
   "cell_type": "markdown",
   "id": "de87ed22",
   "metadata": {},
   "source": [
    "# Data Visualization"
   ]
  },
  {
   "cell_type": "markdown",
   "id": "49208272",
   "metadata": {},
   "source": [
    "Visulizing the data take a closer look at the variables and check for patterns and strength of their relationships "
   ]
  },
  {
   "cell_type": "code",
   "execution_count": 13,
   "id": "ed0f14dc",
   "metadata": {},
   "outputs": [],
   "source": [
    "#Dividing the data into numerical and categorical data\n",
    "n_data = data [['ApplicantIncome', 'CoapplicantIncome', 'LoanAmount', 'Loan_Amount_Term']]\n",
    "c_data = data.drop(columns=['ApplicantIncome', 'CoapplicantIncome', 'LoanAmount', 'Loan_Amount_Term'])"
   ]
  },
  {
   "cell_type": "markdown",
   "id": "50da2daf",
   "metadata": {},
   "source": [
    "Univariate Analysis"
   ]
  },
  {
   "cell_type": "code",
   "execution_count": 14,
   "id": "1fe06771",
   "metadata": {},
   "outputs": [
    {
     "data": {
      "text/plain": [
       "<function matplotlib.pyplot.show(close=None, block=None)>"
      ]
     },
     "execution_count": 14,
     "metadata": {},
     "output_type": "execute_result"
    },
    {
     "data": {
      "image/png": "[encoded data removed]",
      "text/plain": [
       "<Figure size 1440x1440 with 8 Axes>"
      ]
     },
     "metadata": {
      "needs_background": "light"
     },
     "output_type": "display_data"
    }
   ],
   "source": [
    "#Plotting count plots for categorical data\n",
    "\n",
    "plt.figure(figsize=(20,20))\n",
    "plotnumber = 1\n",
    "for column in c_data:\n",
    "    if plotnumber <=8:\n",
    "        ax= plt.subplot(3,3,plotnumber)\n",
    "        sns.countplot(data=c_data,x=c_data[column])\n",
    "        plt.xlabel(column,fontsize=20)\n",
    "        \n",
    "    plotnumber+=1\n",
    "plt.show"
   ]
  },
  {
   "cell_type": "markdown",
   "id": "4744dd62",
   "metadata": {},
   "source": [
    "Interpreting the graphs\n",
    "\n",
    "Gender: There are more male applicants than female applicants\n",
    "\n",
    "Married: Majority of the applicants are married\n",
    "\n",
    "Dependents: Majority of the applicants have no dependants, some have 1 or 2 dependents and very few have more than 3      dependents \n",
    "\n",
    "Education: Majority of the applicants are Graduates\n",
    "\n",
    "Self_Employed: Moajority of the applicants are not self_employed\n",
    "\n",
    "Credit_History: Most of the Applicants have a Credit History\n",
    "\n",
    "Property_Area: The properties are spread across Urban Rural and Semiurban\n",
    "\n",
    "Loan Status: This column is the label or target of the data set. Approved loan applications are more than unapproved applications which implies the dataset is imbalanced\n"
   ]
  },
  {
   "cell_type": "markdown",
   "id": "96fb39ec",
   "metadata": {},
   "source": [
    "From the given the features Applicant income, Credit history and Loan Amount could have a higher impact on the  Label prediction\n",
    "\n",
    "Let's Visualize and look for patterns"
   ]
  },
  {
   "cell_type": "code",
   "execution_count": 15,
   "id": "e5853c69",
   "metadata": {},
   "outputs": [
    {
     "data": {
      "text/plain": [
       "<AxesSubplot:xlabel='Loan_Status', ylabel='ApplicantIncome'>"
      ]
     },
     "execution_count": 15,
     "metadata": {},
     "output_type": "execute_result"
    },
    {
     "data": {
      "image/png": "[encoded data removed]",
      "text/plain": [
       "<Figure size 432x288 with 1 Axes>"
      ]
     },
     "metadata": {
      "needs_background": "light"
     },
     "output_type": "display_data"
    }
   ],
   "source": [
    "sns.stripplot(x='Loan_Status', y='ApplicantIncome', data=data)"
   ]
  },
  {
   "cell_type": "markdown",
   "id": "1141d2e4",
   "metadata": {},
   "source": [
    "Obervations:\n",
    "People who apply for a loan have an average income of 5000 to 20000\n",
    "Applicants with income more than 10000 have a higher chance of loan approval\n",
    "Looks like Loan approval depends on the income of the applicant"
   ]
  },
  {
   "cell_type": "code",
   "execution_count": 16,
   "id": "bd0b8fba",
   "metadata": {},
   "outputs": [
    {
     "data": {
      "text/plain": [
       "<AxesSubplot:xlabel='Loan_Status', ylabel='Credit_History'>"
      ]
     },
     "execution_count": 16,
     "metadata": {},
     "output_type": "execute_result"
    },
    {
     "data": {
      "image/png": "[encoded data removed]",
      "text/plain": [
       "<Figure size 432x288 with 1 Axes>"
      ]
     },
     "metadata": {
      "needs_background": "light"
     },
     "output_type": "display_data"
    }
   ],
   "source": [
    "sns.stripplot(x='Loan_Status', y='Credit_History', data=data)"
   ]
  },
  {
   "cell_type": "markdown",
   "id": "4c250ead",
   "metadata": {},
   "source": [
    "Observations: Applicants with credit history are more likely to get a loan approval than the ones without credit history"
   ]
  },
  {
   "cell_type": "code",
   "execution_count": 17,
   "id": "4a6dfae4",
   "metadata": {},
   "outputs": [
    {
     "data": {
      "text/plain": [
       "<AxesSubplot:xlabel='LoanAmount', ylabel='Loan_Status'>"
      ]
     },
     "execution_count": 17,
     "metadata": {},
     "output_type": "execute_result"
    },
    {
     "data": {
      "image/png": "[encoded data removed]",
      "text/plain": [
       "<Figure size 432x288 with 1 Axes>"
      ]
     },
     "metadata": {
      "needs_background": "light"
     },
     "output_type": "display_data"
    }
   ],
   "source": [
    "sns.stripplot(x='LoanAmount', y='Loan_Status',hue='Credit_History', data=data)"
   ]
  },
  {
   "cell_type": "markdown",
   "id": "12922b19",
   "metadata": {},
   "source": [
    "Observation: Loan amount lies between 50 to 250 and applicants with a credit history are mostly approved for the loan"
   ]
  },
  {
   "cell_type": "code",
   "execution_count": 18,
   "id": "d530e491",
   "metadata": {},
   "outputs": [
    {
     "data": {
      "text/plain": [
       "<AxesSubplot:xlabel='CoapplicantIncome', ylabel='Loan_Status'>"
      ]
     },
     "execution_count": 18,
     "metadata": {},
     "output_type": "execute_result"
    },
    {
     "data": {
      "image/png": "[encoded data removed]",
      "text/plain": [
       "<Figure size 432x288 with 1 Axes>"
      ]
     },
     "metadata": {
      "needs_background": "light"
     },
     "output_type": "display_data"
    }
   ],
   "source": [
    "sns.stripplot(x='CoapplicantIncome', y='Loan_Status', data=data)"
   ]
  },
  {
   "cell_type": "markdown",
   "id": "e5e2dd71",
   "metadata": {},
   "source": [
    "Observation: Having coapplicant income has a positive effect on the label"
   ]
  },
  {
   "cell_type": "code",
   "execution_count": 19,
   "id": "636c3e5d",
   "metadata": {},
   "outputs": [
    {
     "data": {
      "text/plain": [
       "<function matplotlib.pyplot.show(close=None, block=None)>"
      ]
     },
     "execution_count": 19,
     "metadata": {},
     "output_type": "execute_result"
    },
    {
     "data": {
      "image/png": "[encoded data removed]",
      "text/plain": [
       "<Figure size 720x720 with 4 Axes>"
      ]
     },
     "metadata": {
      "needs_background": "light"
     },
     "output_type": "display_data"
    }
   ],
   "source": [
    "#Analysing numerical data\n",
    "plt.figure(figsize=(10,10))\n",
    "plotnumber = 1\n",
    "for column in n_data:\n",
    "    if plotnumber <=4:\n",
    "        ax= plt.subplot(2,2,plotnumber)\n",
    "        sns.distplot(n_data[column])\n",
    "        plt.xlabel(column,fontsize=20)\n",
    "    plotnumber+=1\n",
    "plt.show"
   ]
  },
  {
   "cell_type": "markdown",
   "id": "c39530c5",
   "metadata": {},
   "source": [
    "Numerical columns look good but there are outliers and skewness in the data "
   ]
  },
  {
   "cell_type": "code",
   "execution_count": 20,
   "id": "ae8cda67",
   "metadata": {},
   "outputs": [
    {
     "data": {
      "text/plain": [
       "ApplicantIncome      6.539513\n",
       "CoapplicantIncome    7.491531\n",
       "LoanAmount           2.726601\n",
       "Loan_Amount_Term    -2.402112\n",
       "dtype: float64"
      ]
     },
     "execution_count": 20,
     "metadata": {},
     "output_type": "execute_result"
    }
   ],
   "source": [
    "#Lets check for skewness\n",
    "n_data.skew()"
   ]
  },
  {
   "cell_type": "markdown",
   "id": "629ff763",
   "metadata": {},
   "source": [
    "Above columns are highly skewed and have ouliers\n",
    "let's find the outliers and try to correct the skewness"
   ]
  },
  {
   "cell_type": "markdown",
   "id": "4b0b52c7",
   "metadata": {},
   "source": [
    "Encoding the categorical data"
   ]
  },
  {
   "cell_type": "code",
   "execution_count": 21,
   "id": "1fbc53cb",
   "metadata": {},
   "outputs": [],
   "source": [
    "#Encoding careorical data:\n",
    "L_encoder = LabelEncoder()\n",
    "for i in data.columns:\n",
    "    if data[i].dtypes=='object':\n",
    "        data[i]=L_encoder.fit_transform(data[i].values.reshape(-1,1))"
   ]
  },
  {
   "cell_type": "code",
   "execution_count": 22,
   "id": "b5867a1e",
   "metadata": {},
   "outputs": [
    {
     "data": {
      "text/html": [
       "<div>\n",
       "<style scoped>\n",
       "    .dataframe tbody tr th:only-of-type {\n",
       "        vertical-align: middle;\n",
       "    }\n",
       "\n",
       "    .dataframe tbody tr th {\n",
       "        vertical-align: top;\n",
       "    }\n",
       "\n",
       "    .dataframe thead th {\n",
       "        text-align: right;\n",
       "    }\n",
       "</style>\n",
       "<table border=\"1\" class=\"dataframe\">\n",
       "  <thead>\n",
       "    <tr style=\"text-align: right;\">\n",
       "      <th></th>\n",
       "      <th>Gender</th>\n",
       "      <th>Married</th>\n",
       "      <th>Dependents</th>\n",
       "      <th>Education</th>\n",
       "      <th>Self_Employed</th>\n",
       "      <th>ApplicantIncome</th>\n",
       "      <th>CoapplicantIncome</th>\n",
       "      <th>LoanAmount</th>\n",
       "      <th>Loan_Amount_Term</th>\n",
       "      <th>Credit_History</th>\n",
       "      <th>Property_Area</th>\n",
       "      <th>Loan_Status</th>\n",
       "    </tr>\n",
       "  </thead>\n",
       "  <tbody>\n",
       "    <tr>\n",
       "      <th>0</th>\n",
       "      <td>1</td>\n",
       "      <td>0</td>\n",
       "      <td>0</td>\n",
       "      <td>0</td>\n",
       "      <td>0</td>\n",
       "      <td>5849</td>\n",
       "      <td>0.0</td>\n",
       "      <td>146.412162</td>\n",
       "      <td>360.0</td>\n",
       "      <td>1.0</td>\n",
       "      <td>2</td>\n",
       "      <td>1</td>\n",
       "    </tr>\n",
       "    <tr>\n",
       "      <th>1</th>\n",
       "      <td>1</td>\n",
       "      <td>1</td>\n",
       "      <td>1</td>\n",
       "      <td>0</td>\n",
       "      <td>0</td>\n",
       "      <td>4583</td>\n",
       "      <td>1508.0</td>\n",
       "      <td>128.000000</td>\n",
       "      <td>360.0</td>\n",
       "      <td>1.0</td>\n",
       "      <td>0</td>\n",
       "      <td>0</td>\n",
       "    </tr>\n",
       "    <tr>\n",
       "      <th>2</th>\n",
       "      <td>1</td>\n",
       "      <td>1</td>\n",
       "      <td>0</td>\n",
       "      <td>0</td>\n",
       "      <td>1</td>\n",
       "      <td>3000</td>\n",
       "      <td>0.0</td>\n",
       "      <td>66.000000</td>\n",
       "      <td>360.0</td>\n",
       "      <td>1.0</td>\n",
       "      <td>2</td>\n",
       "      <td>1</td>\n",
       "    </tr>\n",
       "    <tr>\n",
       "      <th>3</th>\n",
       "      <td>1</td>\n",
       "      <td>1</td>\n",
       "      <td>0</td>\n",
       "      <td>1</td>\n",
       "      <td>0</td>\n",
       "      <td>2583</td>\n",
       "      <td>2358.0</td>\n",
       "      <td>120.000000</td>\n",
       "      <td>360.0</td>\n",
       "      <td>1.0</td>\n",
       "      <td>2</td>\n",
       "      <td>1</td>\n",
       "    </tr>\n",
       "    <tr>\n",
       "      <th>4</th>\n",
       "      <td>1</td>\n",
       "      <td>0</td>\n",
       "      <td>0</td>\n",
       "      <td>0</td>\n",
       "      <td>0</td>\n",
       "      <td>6000</td>\n",
       "      <td>0.0</td>\n",
       "      <td>141.000000</td>\n",
       "      <td>360.0</td>\n",
       "      <td>1.0</td>\n",
       "      <td>2</td>\n",
       "      <td>1</td>\n",
       "    </tr>\n",
       "    <tr>\n",
       "      <th>...</th>\n",
       "      <td>...</td>\n",
       "      <td>...</td>\n",
       "      <td>...</td>\n",
       "      <td>...</td>\n",
       "      <td>...</td>\n",
       "      <td>...</td>\n",
       "      <td>...</td>\n",
       "      <td>...</td>\n",
       "      <td>...</td>\n",
       "      <td>...</td>\n",
       "      <td>...</td>\n",
       "      <td>...</td>\n",
       "    </tr>\n",
       "    <tr>\n",
       "      <th>609</th>\n",
       "      <td>0</td>\n",
       "      <td>0</td>\n",
       "      <td>0</td>\n",
       "      <td>0</td>\n",
       "      <td>0</td>\n",
       "      <td>2900</td>\n",
       "      <td>0.0</td>\n",
       "      <td>71.000000</td>\n",
       "      <td>360.0</td>\n",
       "      <td>1.0</td>\n",
       "      <td>0</td>\n",
       "      <td>1</td>\n",
       "    </tr>\n",
       "    <tr>\n",
       "      <th>610</th>\n",
       "      <td>1</td>\n",
       "      <td>1</td>\n",
       "      <td>3</td>\n",
       "      <td>0</td>\n",
       "      <td>0</td>\n",
       "      <td>4106</td>\n",
       "      <td>0.0</td>\n",
       "      <td>40.000000</td>\n",
       "      <td>180.0</td>\n",
       "      <td>1.0</td>\n",
       "      <td>0</td>\n",
       "      <td>1</td>\n",
       "    </tr>\n",
       "    <tr>\n",
       "      <th>611</th>\n",
       "      <td>1</td>\n",
       "      <td>1</td>\n",
       "      <td>1</td>\n",
       "      <td>0</td>\n",
       "      <td>0</td>\n",
       "      <td>8072</td>\n",
       "      <td>240.0</td>\n",
       "      <td>253.000000</td>\n",
       "      <td>360.0</td>\n",
       "      <td>1.0</td>\n",
       "      <td>2</td>\n",
       "      <td>1</td>\n",
       "    </tr>\n",
       "    <tr>\n",
       "      <th>612</th>\n",
       "      <td>1</td>\n",
       "      <td>1</td>\n",
       "      <td>2</td>\n",
       "      <td>0</td>\n",
       "      <td>0</td>\n",
       "      <td>7583</td>\n",
       "      <td>0.0</td>\n",
       "      <td>187.000000</td>\n",
       "      <td>360.0</td>\n",
       "      <td>1.0</td>\n",
       "      <td>2</td>\n",
       "      <td>1</td>\n",
       "    </tr>\n",
       "    <tr>\n",
       "      <th>613</th>\n",
       "      <td>0</td>\n",
       "      <td>0</td>\n",
       "      <td>0</td>\n",
       "      <td>0</td>\n",
       "      <td>1</td>\n",
       "      <td>4583</td>\n",
       "      <td>0.0</td>\n",
       "      <td>133.000000</td>\n",
       "      <td>360.0</td>\n",
       "      <td>0.0</td>\n",
       "      <td>1</td>\n",
       "      <td>0</td>\n",
       "    </tr>\n",
       "  </tbody>\n",
       "</table>\n",
       "<p>614 rows × 12 columns</p>\n",
       "</div>"
      ],
      "text/plain": [
       "     Gender  Married  Dependents  Education  Self_Employed  ApplicantIncome  \\\n",
       "0         1        0           0          0              0             5849   \n",
       "1         1        1           1          0              0             4583   \n",
       "2         1        1           0          0              1             3000   \n",
       "3         1        1           0          1              0             2583   \n",
       "4         1        0           0          0              0             6000   \n",
       "..      ...      ...         ...        ...            ...              ...   \n",
       "609       0        0           0          0              0             2900   \n",
       "610       1        1           3          0              0             4106   \n",
       "611       1        1           1          0              0             8072   \n",
       "612       1        1           2          0              0             7583   \n",
       "613       0        0           0          0              1             4583   \n",
       "\n",
       "     CoapplicantIncome  LoanAmount  Loan_Amount_Term  Credit_History  \\\n",
       "0                  0.0  146.412162             360.0             1.0   \n",
       "1               1508.0  128.000000             360.0             1.0   \n",
       "2                  0.0   66.000000             360.0             1.0   \n",
       "3               2358.0  120.000000             360.0             1.0   \n",
       "4                  0.0  141.000000             360.0             1.0   \n",
       "..                 ...         ...               ...             ...   \n",
       "609                0.0   71.000000             360.0             1.0   \n",
       "610                0.0   40.000000             180.0             1.0   \n",
       "611              240.0  253.000000             360.0             1.0   \n",
       "612                0.0  187.000000             360.0             1.0   \n",
       "613                0.0  133.000000             360.0             0.0   \n",
       "\n",
       "     Property_Area  Loan_Status  \n",
       "0                2            1  \n",
       "1                0            0  \n",
       "2                2            1  \n",
       "3                2            1  \n",
       "4                2            1  \n",
       "..             ...          ...  \n",
       "609              0            1  \n",
       "610              0            1  \n",
       "611              2            1  \n",
       "612              2            1  \n",
       "613              1            0  \n",
       "\n",
       "[614 rows x 12 columns]"
      ]
     },
     "execution_count": 22,
     "metadata": {},
     "output_type": "execute_result"
    }
   ],
   "source": [
    "data"
   ]
  },
  {
   "cell_type": "code",
   "execution_count": 23,
   "id": "4db16816",
   "metadata": {},
   "outputs": [
    {
     "data": {
      "image/png": "[encoded data removed]",
      "text/plain": [
       "<Figure size 1080x720 with 4 Axes>"
      ]
     },
     "metadata": {
      "needs_background": "light"
     },
     "output_type": "display_data"
    }
   ],
   "source": [
    "# Visualising outliers using box plot\n",
    "# Checking for outliers using boxplot\n",
    "plt.figure(figsize=(15,10))\n",
    "graph =1\n",
    "for column in n_data:\n",
    "    if graph <=5:\n",
    "        plt.subplot(2,3,graph)\n",
    "        ax=sns.boxplot(data=data[column])\n",
    "        plt.xlabel(column,fontsize=15)\n",
    "    graph+=1\n",
    "plt.show()"
   ]
  },
  {
   "cell_type": "markdown",
   "id": "51c6bfd8",
   "metadata": {},
   "source": [
    "From the above graphs we observe the presence of outliers in all the columns"
   ]
  },
  {
   "cell_type": "markdown",
   "id": "ea58f3ed",
   "metadata": {},
   "source": [
    "Let's find the outliers using z-score"
   ]
  },
  {
   "cell_type": "code",
   "execution_count": 24,
   "id": "b62399b4",
   "metadata": {},
   "outputs": [
    {
     "data": {
      "text/plain": [
       "(array([  9,  14,  68,  94, 126, 130, 133, 155, 155, 171, 171, 177, 177,\n",
       "        183, 185, 242, 262, 278, 308, 313, 333, 333, 369, 402, 409, 417,\n",
       "        432, 443, 487, 495, 497, 506, 523, 525, 546, 561, 575, 581, 585,\n",
       "        600, 604], dtype=int64),\n",
       " array([1, 3, 3, 3, 0, 2, 3, 0, 2, 0, 2, 1, 2, 0, 0, 3, 3, 2, 2, 3, 0, 2,\n",
       "        2, 1, 0, 1, 2, 0, 2, 3, 3, 2, 2, 2, 3, 2, 3, 1, 3, 1, 2],\n",
       "       dtype=int64))"
      ]
     },
     "execution_count": 24,
     "metadata": {},
     "output_type": "execute_result"
    }
   ],
   "source": [
    "features= n_data\n",
    "from scipy.stats import zscore\n",
    "import numpy as np\n",
    "z=np.abs(zscore(features))\n",
    "threshold=3\n",
    "outliers=np.where(z>3)\n",
    "outliers"
   ]
  },
  {
   "cell_type": "code",
   "execution_count": 25,
   "id": "20973c29",
   "metadata": {},
   "outputs": [
    {
     "data": {
      "text/html": [
       "<div>\n",
       "<style scoped>\n",
       "    .dataframe tbody tr th:only-of-type {\n",
       "        vertical-align: middle;\n",
       "    }\n",
       "\n",
       "    .dataframe tbody tr th {\n",
       "        vertical-align: top;\n",
       "    }\n",
       "\n",
       "    .dataframe thead th {\n",
       "        text-align: right;\n",
       "    }\n",
       "</style>\n",
       "<table border=\"1\" class=\"dataframe\">\n",
       "  <thead>\n",
       "    <tr style=\"text-align: right;\">\n",
       "      <th></th>\n",
       "      <th>Gender</th>\n",
       "      <th>Married</th>\n",
       "      <th>Dependents</th>\n",
       "      <th>Education</th>\n",
       "      <th>Self_Employed</th>\n",
       "      <th>ApplicantIncome</th>\n",
       "      <th>CoapplicantIncome</th>\n",
       "      <th>LoanAmount</th>\n",
       "      <th>Loan_Amount_Term</th>\n",
       "      <th>Credit_History</th>\n",
       "      <th>Property_Area</th>\n",
       "      <th>Loan_Status</th>\n",
       "    </tr>\n",
       "  </thead>\n",
       "  <tbody>\n",
       "    <tr>\n",
       "      <th>0</th>\n",
       "      <td>1</td>\n",
       "      <td>0</td>\n",
       "      <td>0</td>\n",
       "      <td>0</td>\n",
       "      <td>0</td>\n",
       "      <td>5849</td>\n",
       "      <td>0.0</td>\n",
       "      <td>146.412162</td>\n",
       "      <td>360.0</td>\n",
       "      <td>1.0</td>\n",
       "      <td>2</td>\n",
       "      <td>1</td>\n",
       "    </tr>\n",
       "    <tr>\n",
       "      <th>1</th>\n",
       "      <td>1</td>\n",
       "      <td>1</td>\n",
       "      <td>1</td>\n",
       "      <td>0</td>\n",
       "      <td>0</td>\n",
       "      <td>4583</td>\n",
       "      <td>1508.0</td>\n",
       "      <td>128.000000</td>\n",
       "      <td>360.0</td>\n",
       "      <td>1.0</td>\n",
       "      <td>0</td>\n",
       "      <td>0</td>\n",
       "    </tr>\n",
       "    <tr>\n",
       "      <th>2</th>\n",
       "      <td>1</td>\n",
       "      <td>1</td>\n",
       "      <td>0</td>\n",
       "      <td>0</td>\n",
       "      <td>1</td>\n",
       "      <td>3000</td>\n",
       "      <td>0.0</td>\n",
       "      <td>66.000000</td>\n",
       "      <td>360.0</td>\n",
       "      <td>1.0</td>\n",
       "      <td>2</td>\n",
       "      <td>1</td>\n",
       "    </tr>\n",
       "    <tr>\n",
       "      <th>3</th>\n",
       "      <td>1</td>\n",
       "      <td>1</td>\n",
       "      <td>0</td>\n",
       "      <td>1</td>\n",
       "      <td>0</td>\n",
       "      <td>2583</td>\n",
       "      <td>2358.0</td>\n",
       "      <td>120.000000</td>\n",
       "      <td>360.0</td>\n",
       "      <td>1.0</td>\n",
       "      <td>2</td>\n",
       "      <td>1</td>\n",
       "    </tr>\n",
       "    <tr>\n",
       "      <th>4</th>\n",
       "      <td>1</td>\n",
       "      <td>0</td>\n",
       "      <td>0</td>\n",
       "      <td>0</td>\n",
       "      <td>0</td>\n",
       "      <td>6000</td>\n",
       "      <td>0.0</td>\n",
       "      <td>141.000000</td>\n",
       "      <td>360.0</td>\n",
       "      <td>1.0</td>\n",
       "      <td>2</td>\n",
       "      <td>1</td>\n",
       "    </tr>\n",
       "    <tr>\n",
       "      <th>...</th>\n",
       "      <td>...</td>\n",
       "      <td>...</td>\n",
       "      <td>...</td>\n",
       "      <td>...</td>\n",
       "      <td>...</td>\n",
       "      <td>...</td>\n",
       "      <td>...</td>\n",
       "      <td>...</td>\n",
       "      <td>...</td>\n",
       "      <td>...</td>\n",
       "      <td>...</td>\n",
       "      <td>...</td>\n",
       "    </tr>\n",
       "    <tr>\n",
       "      <th>609</th>\n",
       "      <td>0</td>\n",
       "      <td>0</td>\n",
       "      <td>0</td>\n",
       "      <td>0</td>\n",
       "      <td>0</td>\n",
       "      <td>2900</td>\n",
       "      <td>0.0</td>\n",
       "      <td>71.000000</td>\n",
       "      <td>360.0</td>\n",
       "      <td>1.0</td>\n",
       "      <td>0</td>\n",
       "      <td>1</td>\n",
       "    </tr>\n",
       "    <tr>\n",
       "      <th>610</th>\n",
       "      <td>1</td>\n",
       "      <td>1</td>\n",
       "      <td>3</td>\n",
       "      <td>0</td>\n",
       "      <td>0</td>\n",
       "      <td>4106</td>\n",
       "      <td>0.0</td>\n",
       "      <td>40.000000</td>\n",
       "      <td>180.0</td>\n",
       "      <td>1.0</td>\n",
       "      <td>0</td>\n",
       "      <td>1</td>\n",
       "    </tr>\n",
       "    <tr>\n",
       "      <th>611</th>\n",
       "      <td>1</td>\n",
       "      <td>1</td>\n",
       "      <td>1</td>\n",
       "      <td>0</td>\n",
       "      <td>0</td>\n",
       "      <td>8072</td>\n",
       "      <td>240.0</td>\n",
       "      <td>253.000000</td>\n",
       "      <td>360.0</td>\n",
       "      <td>1.0</td>\n",
       "      <td>2</td>\n",
       "      <td>1</td>\n",
       "    </tr>\n",
       "    <tr>\n",
       "      <th>612</th>\n",
       "      <td>1</td>\n",
       "      <td>1</td>\n",
       "      <td>2</td>\n",
       "      <td>0</td>\n",
       "      <td>0</td>\n",
       "      <td>7583</td>\n",
       "      <td>0.0</td>\n",
       "      <td>187.000000</td>\n",
       "      <td>360.0</td>\n",
       "      <td>1.0</td>\n",
       "      <td>2</td>\n",
       "      <td>1</td>\n",
       "    </tr>\n",
       "    <tr>\n",
       "      <th>613</th>\n",
       "      <td>0</td>\n",
       "      <td>0</td>\n",
       "      <td>0</td>\n",
       "      <td>0</td>\n",
       "      <td>1</td>\n",
       "      <td>4583</td>\n",
       "      <td>0.0</td>\n",
       "      <td>133.000000</td>\n",
       "      <td>360.0</td>\n",
       "      <td>0.0</td>\n",
       "      <td>1</td>\n",
       "      <td>0</td>\n",
       "    </tr>\n",
       "  </tbody>\n",
       "</table>\n",
       "<p>577 rows × 12 columns</p>\n",
       "</div>"
      ],
      "text/plain": [
       "     Gender  Married  Dependents  Education  Self_Employed  ApplicantIncome  \\\n",
       "0         1        0           0          0              0             5849   \n",
       "1         1        1           1          0              0             4583   \n",
       "2         1        1           0          0              1             3000   \n",
       "3         1        1           0          1              0             2583   \n",
       "4         1        0           0          0              0             6000   \n",
       "..      ...      ...         ...        ...            ...              ...   \n",
       "609       0        0           0          0              0             2900   \n",
       "610       1        1           3          0              0             4106   \n",
       "611       1        1           1          0              0             8072   \n",
       "612       1        1           2          0              0             7583   \n",
       "613       0        0           0          0              1             4583   \n",
       "\n",
       "     CoapplicantIncome  LoanAmount  Loan_Amount_Term  Credit_History  \\\n",
       "0                  0.0  146.412162             360.0             1.0   \n",
       "1               1508.0  128.000000             360.0             1.0   \n",
       "2                  0.0   66.000000             360.0             1.0   \n",
       "3               2358.0  120.000000             360.0             1.0   \n",
       "4                  0.0  141.000000             360.0             1.0   \n",
       "..                 ...         ...               ...             ...   \n",
       "609                0.0   71.000000             360.0             1.0   \n",
       "610                0.0   40.000000             180.0             1.0   \n",
       "611              240.0  253.000000             360.0             1.0   \n",
       "612                0.0  187.000000             360.0             1.0   \n",
       "613                0.0  133.000000             360.0             0.0   \n",
       "\n",
       "     Property_Area  Loan_Status  \n",
       "0                2            1  \n",
       "1                0            0  \n",
       "2                2            1  \n",
       "3                2            1  \n",
       "4                2            1  \n",
       "..             ...          ...  \n",
       "609              0            1  \n",
       "610              0            1  \n",
       "611              2            1  \n",
       "612              2            1  \n",
       "613              1            0  \n",
       "\n",
       "[577 rows x 12 columns]"
      ]
     },
     "execution_count": 25,
     "metadata": {},
     "output_type": "execute_result"
    }
   ],
   "source": [
    "new_data=data.drop(outliers[0],axis=0)\n",
    "new_data"
   ]
  },
  {
   "cell_type": "code",
   "execution_count": 26,
   "id": "30d59cc6",
   "metadata": {},
   "outputs": [
    {
     "data": {
      "text/plain": [
       "6.026058631921824"
      ]
     },
     "execution_count": 26,
     "metadata": {},
     "output_type": "execute_result"
    }
   ],
   "source": [
    "data_loss=((614-577)/614)*100\n",
    "data_loss"
   ]
  },
  {
   "cell_type": "code",
   "execution_count": 27,
   "id": "9fd988c4",
   "metadata": {},
   "outputs": [
    {
     "data": {
      "text/plain": [
       "Gender              -1.622920\n",
       "Married             -0.630211\n",
       "Dependents           1.052106\n",
       "Education            1.306588\n",
       "Self_Employed        2.252848\n",
       "ApplicantIncome      2.148522\n",
       "CoapplicantIncome    1.350517\n",
       "LoanAmount           1.113132\n",
       "Loan_Amount_Term    -2.098806\n",
       "Credit_History      -1.976043\n",
       "Property_Area       -0.055332\n",
       "Loan_Status         -0.822635\n",
       "dtype: float64"
      ]
     },
     "execution_count": 27,
     "metadata": {},
     "output_type": "execute_result"
    }
   ],
   "source": [
    "new_data.skew()"
   ]
  },
  {
   "cell_type": "markdown",
   "id": "75ac8ac8",
   "metadata": {},
   "source": [
    "Deleting the outliers will give a data loss of 6.02%\n",
    "\n",
    "Also deleting the outliers reduced the skewness of the data\n",
    "\n",
    "Hence deleting the outliers "
   ]
  },
  {
   "cell_type": "code",
   "execution_count": 28,
   "id": "21b58882",
   "metadata": {},
   "outputs": [
    {
     "data": {
      "image/png": "[encoded data removed]",
      "text/plain": [
       "<Figure size 864x576 with 2 Axes>"
      ]
     },
     "metadata": {
      "needs_background": "light"
     },
     "output_type": "display_data"
    }
   ],
   "source": [
    "## Plotting heat map to check for multicollinerity and labelv//s feature relationship\n",
    "df_corr = data.corr().abs()\n",
    "plt.figure(figsize=(12,8))\n",
    "sns.heatmap(df_corr, annot= True, annot_kws ={'size':10})\n",
    "plt.show()"
   ]
  },
  {
   "cell_type": "markdown",
   "id": "589ae0c6",
   "metadata": {},
   "source": [
    "The heatmap looks good \n",
    "\n",
    "We observe Laon_Amount and Applicant income have strong relation will check for mutlicollinearity in futhur steps\n",
    "\n",
    "It is also observed Credit histroy has the strongest relation with Loan_status"
   ]
  },
  {
   "cell_type": "markdown",
   "id": "9b575c5a",
   "metadata": {},
   "source": [
    " Using Power Transformer to deal with skewness and then calculating vifs to check for  multicollinearity  "
   ]
  },
  {
   "cell_type": "code",
   "execution_count": 29,
   "id": "f62f3f97",
   "metadata": {},
   "outputs": [],
   "source": [
    "#Dividing data into features and label\n",
    "\n",
    "X = data.drop(columns=['Loan_Status'])\n",
    "Y= data['Loan_Status']"
   ]
  },
  {
   "cell_type": "code",
   "execution_count": 30,
   "id": "f43c9dd2",
   "metadata": {},
   "outputs": [
    {
     "data": {
      "text/html": [
       "<div>\n",
       "<style scoped>\n",
       "    .dataframe tbody tr th:only-of-type {\n",
       "        vertical-align: middle;\n",
       "    }\n",
       "\n",
       "    .dataframe tbody tr th {\n",
       "        vertical-align: top;\n",
       "    }\n",
       "\n",
       "    .dataframe thead th {\n",
       "        text-align: right;\n",
       "    }\n",
       "</style>\n",
       "<table border=\"1\" class=\"dataframe\">\n",
       "  <thead>\n",
       "    <tr style=\"text-align: right;\">\n",
       "      <th></th>\n",
       "      <th>Gender</th>\n",
       "      <th>Married</th>\n",
       "      <th>Dependents</th>\n",
       "      <th>Education</th>\n",
       "      <th>Self_Employed</th>\n",
       "      <th>ApplicantIncome</th>\n",
       "      <th>CoapplicantIncome</th>\n",
       "      <th>LoanAmount</th>\n",
       "      <th>Loan_Amount_Term</th>\n",
       "      <th>Credit_History</th>\n",
       "      <th>Property_Area</th>\n",
       "    </tr>\n",
       "  </thead>\n",
       "  <tbody>\n",
       "    <tr>\n",
       "      <th>0</th>\n",
       "      <td>0.472343</td>\n",
       "      <td>-1.372089</td>\n",
       "      <td>-0.827104</td>\n",
       "      <td>-0.528362</td>\n",
       "      <td>-0.392601</td>\n",
       "      <td>0.544331</td>\n",
       "      <td>-1.102837</td>\n",
       "      <td>0.235387</td>\n",
       "      <td>0.175540</td>\n",
       "      <td>0.411733</td>\n",
       "      <td>1.193567</td>\n",
       "    </tr>\n",
       "    <tr>\n",
       "      <th>1</th>\n",
       "      <td>0.472343</td>\n",
       "      <td>0.728816</td>\n",
       "      <td>0.854259</td>\n",
       "      <td>-0.528362</td>\n",
       "      <td>-0.392601</td>\n",
       "      <td>0.170974</td>\n",
       "      <td>0.750578</td>\n",
       "      <td>-0.037659</td>\n",
       "      <td>0.175540</td>\n",
       "      <td>0.411733</td>\n",
       "      <td>-1.350003</td>\n",
       "    </tr>\n",
       "    <tr>\n",
       "      <th>2</th>\n",
       "      <td>0.472343</td>\n",
       "      <td>0.728816</td>\n",
       "      <td>-0.827104</td>\n",
       "      <td>-0.528362</td>\n",
       "      <td>2.547117</td>\n",
       "      <td>-0.499955</td>\n",
       "      <td>-1.102837</td>\n",
       "      <td>-1.346305</td>\n",
       "      <td>0.175540</td>\n",
       "      <td>0.411733</td>\n",
       "      <td>1.193567</td>\n",
       "    </tr>\n",
       "    <tr>\n",
       "      <th>3</th>\n",
       "      <td>0.472343</td>\n",
       "      <td>0.728816</td>\n",
       "      <td>-0.827104</td>\n",
       "      <td>1.892641</td>\n",
       "      <td>-0.392601</td>\n",
       "      <td>-0.743873</td>\n",
       "      <td>0.891686</td>\n",
       "      <td>-0.167886</td>\n",
       "      <td>0.175540</td>\n",
       "      <td>0.411733</td>\n",
       "      <td>1.193567</td>\n",
       "    </tr>\n",
       "    <tr>\n",
       "      <th>4</th>\n",
       "      <td>0.472343</td>\n",
       "      <td>-1.372089</td>\n",
       "      <td>-0.827104</td>\n",
       "      <td>-0.528362</td>\n",
       "      <td>-0.392601</td>\n",
       "      <td>0.582817</td>\n",
       "      <td>-1.102837</td>\n",
       "      <td>0.158610</td>\n",
       "      <td>0.175540</td>\n",
       "      <td>0.411733</td>\n",
       "      <td>1.193567</td>\n",
       "    </tr>\n",
       "    <tr>\n",
       "      <th>...</th>\n",
       "      <td>...</td>\n",
       "      <td>...</td>\n",
       "      <td>...</td>\n",
       "      <td>...</td>\n",
       "      <td>...</td>\n",
       "      <td>...</td>\n",
       "      <td>...</td>\n",
       "      <td>...</td>\n",
       "      <td>...</td>\n",
       "      <td>...</td>\n",
       "      <td>...</td>\n",
       "    </tr>\n",
       "    <tr>\n",
       "      <th>609</th>\n",
       "      <td>-2.117107</td>\n",
       "      <td>-1.372089</td>\n",
       "      <td>-0.827104</td>\n",
       "      <td>-0.528362</td>\n",
       "      <td>-0.392601</td>\n",
       "      <td>-0.554885</td>\n",
       "      <td>-1.102837</td>\n",
       "      <td>-1.205100</td>\n",
       "      <td>0.175540</td>\n",
       "      <td>0.411733</td>\n",
       "      <td>-1.350003</td>\n",
       "    </tr>\n",
       "    <tr>\n",
       "      <th>610</th>\n",
       "      <td>0.472343</td>\n",
       "      <td>0.728816</td>\n",
       "      <td>1.522278</td>\n",
       "      <td>-0.528362</td>\n",
       "      <td>-0.392601</td>\n",
       "      <td>-0.000290</td>\n",
       "      <td>-1.102837</td>\n",
       "      <td>-2.293317</td>\n",
       "      <td>-2.312879</td>\n",
       "      <td>0.411733</td>\n",
       "      <td>-1.350003</td>\n",
       "    </tr>\n",
       "    <tr>\n",
       "      <th>611</th>\n",
       "      <td>0.472343</td>\n",
       "      <td>0.728816</td>\n",
       "      <td>0.854259</td>\n",
       "      <td>-0.528362</td>\n",
       "      <td>-0.392601</td>\n",
       "      <td>1.023487</td>\n",
       "      <td>0.208603</td>\n",
       "      <td>1.372409</td>\n",
       "      <td>0.175540</td>\n",
       "      <td>0.411733</td>\n",
       "      <td>1.193567</td>\n",
       "    </tr>\n",
       "    <tr>\n",
       "      <th>612</th>\n",
       "      <td>0.472343</td>\n",
       "      <td>0.728816</td>\n",
       "      <td>1.316702</td>\n",
       "      <td>-0.528362</td>\n",
       "      <td>-0.392601</td>\n",
       "      <td>0.931750</td>\n",
       "      <td>-1.102837</td>\n",
       "      <td>0.738924</td>\n",
       "      <td>0.175540</td>\n",
       "      <td>0.411733</td>\n",
       "      <td>1.193567</td>\n",
       "    </tr>\n",
       "    <tr>\n",
       "      <th>613</th>\n",
       "      <td>-2.117107</td>\n",
       "      <td>-1.372089</td>\n",
       "      <td>-0.827104</td>\n",
       "      <td>-0.528362</td>\n",
       "      <td>2.547117</td>\n",
       "      <td>0.170974</td>\n",
       "      <td>-1.102837</td>\n",
       "      <td>0.039936</td>\n",
       "      <td>0.175540</td>\n",
       "      <td>-2.428760</td>\n",
       "      <td>0.002361</td>\n",
       "    </tr>\n",
       "  </tbody>\n",
       "</table>\n",
       "<p>614 rows × 11 columns</p>\n",
       "</div>"
      ],
      "text/plain": [
       "       Gender   Married  Dependents  Education  Self_Employed  \\\n",
       "0    0.472343 -1.372089   -0.827104  -0.528362      -0.392601   \n",
       "1    0.472343  0.728816    0.854259  -0.528362      -0.392601   \n",
       "2    0.472343  0.728816   -0.827104  -0.528362       2.547117   \n",
       "3    0.472343  0.728816   -0.827104   1.892641      -0.392601   \n",
       "4    0.472343 -1.372089   -0.827104  -0.528362      -0.392601   \n",
       "..        ...       ...         ...        ...            ...   \n",
       "609 -2.117107 -1.372089   -0.827104  -0.528362      -0.392601   \n",
       "610  0.472343  0.728816    1.522278  -0.528362      -0.392601   \n",
       "611  0.472343  0.728816    0.854259  -0.528362      -0.392601   \n",
       "612  0.472343  0.728816    1.316702  -0.528362      -0.392601   \n",
       "613 -2.117107 -1.372089   -0.827104  -0.528362       2.547117   \n",
       "\n",
       "     ApplicantIncome  CoapplicantIncome  LoanAmount  Loan_Amount_Term  \\\n",
       "0           0.544331          -1.102837    0.235387          0.175540   \n",
       "1           0.170974           0.750578   -0.037659          0.175540   \n",
       "2          -0.499955          -1.102837   -1.346305          0.175540   \n",
       "3          -0.743873           0.891686   -0.167886          0.175540   \n",
       "4           0.582817          -1.102837    0.158610          0.175540   \n",
       "..               ...                ...         ...               ...   \n",
       "609        -0.554885          -1.102837   -1.205100          0.175540   \n",
       "610        -0.000290          -1.102837   -2.293317         -2.312879   \n",
       "611         1.023487           0.208603    1.372409          0.175540   \n",
       "612         0.931750          -1.102837    0.738924          0.175540   \n",
       "613         0.170974          -1.102837    0.039936          0.175540   \n",
       "\n",
       "     Credit_History  Property_Area  \n",
       "0          0.411733       1.193567  \n",
       "1          0.411733      -1.350003  \n",
       "2          0.411733       1.193567  \n",
       "3          0.411733       1.193567  \n",
       "4          0.411733       1.193567  \n",
       "..              ...            ...  \n",
       "609        0.411733      -1.350003  \n",
       "610        0.411733      -1.350003  \n",
       "611        0.411733       1.193567  \n",
       "612        0.411733       1.193567  \n",
       "613       -2.428760       0.002361  \n",
       "\n",
       "[614 rows x 11 columns]"
      ]
     },
     "execution_count": 30,
     "metadata": {},
     "output_type": "execute_result"
    }
   ],
   "source": [
    "\n",
    "pt = PowerTransformer()\n",
    "\n",
    "X_scaled = pd.DataFrame(pt.fit_transform(X), columns=X.columns)\n",
    "X_scaled"
   ]
  },
  {
   "cell_type": "code",
   "execution_count": 31,
   "id": "cbc92909",
   "metadata": {},
   "outputs": [
    {
     "data": {
      "text/plain": [
       "Gender              -1.648795\n",
       "Married             -0.644850\n",
       "Dependents           0.441404\n",
       "Education            1.367622\n",
       "Self_Employed        2.159796\n",
       "ApplicantIncome     -0.092946\n",
       "CoapplicantIncome   -0.145646\n",
       "LoanAmount           0.024376\n",
       "Loan_Amount_Term     0.392571\n",
       "Credit_History      -2.021971\n",
       "Property_Area       -0.158267\n",
       "dtype: float64"
      ]
     },
     "execution_count": 31,
     "metadata": {},
     "output_type": "execute_result"
    }
   ],
   "source": [
    "#checking for skewness\n",
    "X_scaled.skew()"
   ]
  },
  {
   "cell_type": "markdown",
   "id": "ed738340",
   "metadata": {},
   "source": [
    "Skewness is under control\n",
    "\n",
    "Observe that skewness for all numerical data is less than +/- 0.5"
   ]
  },
  {
   "cell_type": "code",
   "execution_count": 32,
   "id": "b51b4bb2",
   "metadata": {},
   "outputs": [
    {
     "data": {
      "text/html": [
       "<div>\n",
       "<style scoped>\n",
       "    .dataframe tbody tr th:only-of-type {\n",
       "        vertical-align: middle;\n",
       "    }\n",
       "\n",
       "    .dataframe tbody tr th {\n",
       "        vertical-align: top;\n",
       "    }\n",
       "\n",
       "    .dataframe thead th {\n",
       "        text-align: right;\n",
       "    }\n",
       "</style>\n",
       "<table border=\"1\" class=\"dataframe\">\n",
       "  <thead>\n",
       "    <tr style=\"text-align: right;\">\n",
       "      <th></th>\n",
       "      <th>vif</th>\n",
       "      <th>feature</th>\n",
       "    </tr>\n",
       "  </thead>\n",
       "  <tbody>\n",
       "    <tr>\n",
       "      <th>0</th>\n",
       "      <td>1.205037</td>\n",
       "      <td>Gender</td>\n",
       "    </tr>\n",
       "    <tr>\n",
       "      <th>1</th>\n",
       "      <td>1.415530</td>\n",
       "      <td>Married</td>\n",
       "    </tr>\n",
       "    <tr>\n",
       "      <th>2</th>\n",
       "      <td>1.192891</td>\n",
       "      <td>Dependents</td>\n",
       "    </tr>\n",
       "    <tr>\n",
       "      <th>3</th>\n",
       "      <td>1.064851</td>\n",
       "      <td>Education</td>\n",
       "    </tr>\n",
       "    <tr>\n",
       "      <th>4</th>\n",
       "      <td>1.043745</td>\n",
       "      <td>Self_Employed</td>\n",
       "    </tr>\n",
       "    <tr>\n",
       "      <th>5</th>\n",
       "      <td>1.846985</td>\n",
       "      <td>ApplicantIncome</td>\n",
       "    </tr>\n",
       "    <tr>\n",
       "      <th>6</th>\n",
       "      <td>1.545135</td>\n",
       "      <td>CoapplicantIncome</td>\n",
       "    </tr>\n",
       "    <tr>\n",
       "      <th>7</th>\n",
       "      <td>1.593439</td>\n",
       "      <td>LoanAmount</td>\n",
       "    </tr>\n",
       "    <tr>\n",
       "      <th>8</th>\n",
       "      <td>1.046803</td>\n",
       "      <td>Loan_Amount_Term</td>\n",
       "    </tr>\n",
       "    <tr>\n",
       "      <th>9</th>\n",
       "      <td>1.008268</td>\n",
       "      <td>Credit_History</td>\n",
       "    </tr>\n",
       "    <tr>\n",
       "      <th>10</th>\n",
       "      <td>1.022465</td>\n",
       "      <td>Property_Area</td>\n",
       "    </tr>\n",
       "  </tbody>\n",
       "</table>\n",
       "</div>"
      ],
      "text/plain": [
       "         vif            feature\n",
       "0   1.205037             Gender\n",
       "1   1.415530            Married\n",
       "2   1.192891         Dependents\n",
       "3   1.064851          Education\n",
       "4   1.043745      Self_Employed\n",
       "5   1.846985    ApplicantIncome\n",
       "6   1.545135  CoapplicantIncome\n",
       "7   1.593439         LoanAmount\n",
       "8   1.046803   Loan_Amount_Term\n",
       "9   1.008268     Credit_History\n",
       "10  1.022465      Property_Area"
      ]
     },
     "execution_count": 32,
     "metadata": {},
     "output_type": "execute_result"
    }
   ],
   "source": [
    "#Using VIF to check for muliticolinearity:\n",
    "from statsmodels.stats.outliers_influence import variance_inflation_factor\n",
    "vif= pd.DataFrame()\n",
    "vif['vif']=[variance_inflation_factor(X_scaled,i) for i in range(X_scaled.shape[1])]\n",
    "vif['feature']= X.columns\n",
    "vif"
   ]
  },
  {
   "cell_type": "markdown",
   "id": "6ca0657e",
   "metadata": {},
   "source": [
    "Since vif is less than 10 data looks good"
   ]
  },
  {
   "cell_type": "code",
   "execution_count": 33,
   "id": "729385b6",
   "metadata": {},
   "outputs": [
    {
     "data": {
      "text/plain": [
       "<AxesSubplot:xlabel='Loan_Status', ylabel='count'>"
      ]
     },
     "execution_count": 33,
     "metadata": {},
     "output_type": "execute_result"
    },
    {
     "data": {
      "image/png": "[encoded data removed]",
      "text/plain": [
       "<Figure size 432x288 with 1 Axes>"
      ]
     },
     "metadata": {
      "needs_background": "light"
     },
     "output_type": "display_data"
    }
   ],
   "source": [
    "sns.countplot(Y)"
   ]
  },
  {
   "cell_type": "markdown",
   "id": "5fb95ad6",
   "metadata": {},
   "source": [
    "Our target or label is not balanced"
   ]
  },
  {
   "cell_type": "code",
   "execution_count": 34,
   "id": "87824f26",
   "metadata": {},
   "outputs": [],
   "source": [
    "# Balancing the target column \"loan_status\" using SMOTE on training data\n",
    "from imblearn.over_sampling import SMOTE"
   ]
  },
  {
   "cell_type": "code",
   "execution_count": 35,
   "id": "7f1df610",
   "metadata": {},
   "outputs": [],
   "source": [
    "#traintestsplit\n",
    "x_train,x_test,y_train,y_test = train_test_split (X_scaled,Y, test_size=0.25, random_state = 285)"
   ]
  },
  {
   "cell_type": "code",
   "execution_count": 36,
   "id": "a6d2d2f0",
   "metadata": {},
   "outputs": [],
   "source": [
    "x_train_rs,y_train_rs= SMOTE().fit_resample(x_train,y_train)"
   ]
  },
  {
   "cell_type": "code",
   "execution_count": 37,
   "id": "97781ed4",
   "metadata": {},
   "outputs": [
    {
     "data": {
      "image/png": "[encoded data removed]",
      "text/plain": [
       "<Figure size 432x288 with 1 Axes>"
      ]
     },
     "metadata": {
      "needs_background": "light"
     },
     "output_type": "display_data"
    }
   ],
   "source": [
    "sns.countplot(y_train_rs)\n",
    "plt.show()"
   ]
  },
  {
   "cell_type": "markdown",
   "id": "a2fefaa2",
   "metadata": {},
   "source": [
    "The target column of training data is balanced"
   ]
  },
  {
   "cell_type": "code",
   "execution_count": 38,
   "id": "6b23bbd8",
   "metadata": {},
   "outputs": [
    {
     "name": "stdout",
     "output_type": "stream",
     "text": [
      "At random state  110 the model performs well\n",
      "Acuraccy of training model : 81.30434782608695\n",
      "Accuracy of testing model : 81.16883116883116\n",
      "\n",
      "-----------------------------------------\n",
      "\n",
      "At random state  112 the model performs well\n",
      "Acuraccy of training model : 81.30434782608695\n",
      "Accuracy of testing model : 80.51948051948052\n",
      "\n",
      "-----------------------------------------\n",
      "\n",
      "At random state  117 the model performs well\n",
      "Acuraccy of training model : 81.30434782608695\n",
      "Accuracy of testing model : 81.16883116883116\n",
      "\n",
      "-----------------------------------------\n",
      "\n",
      "At random state  128 the model performs well\n",
      "Acuraccy of training model : 81.30434782608695\n",
      "Accuracy of testing model : 80.51948051948052\n",
      "\n",
      "-----------------------------------------\n",
      "\n",
      "At random state  131 the model performs well\n",
      "Acuraccy of training model : 81.30434782608695\n",
      "Accuracy of testing model : 80.51948051948052\n",
      "\n",
      "-----------------------------------------\n",
      "\n",
      "At random state  137 the model performs well\n",
      "Acuraccy of training model : 81.30434782608695\n",
      "Accuracy of testing model : 80.51948051948052\n",
      "\n",
      "-----------------------------------------\n",
      "\n",
      "At random state  141 the model performs well\n",
      "Acuraccy of training model : 81.30434782608695\n",
      "Accuracy of testing model : 80.51948051948052\n",
      "\n",
      "-----------------------------------------\n",
      "\n",
      "At random state  143 the model performs well\n",
      "Acuraccy of training model : 81.30434782608695\n",
      "Accuracy of testing model : 81.16883116883116\n",
      "\n",
      "-----------------------------------------\n",
      "\n",
      "At random state  144 the model performs well\n",
      "Acuraccy of training model : 81.30434782608695\n",
      "Accuracy of testing model : 80.51948051948052\n",
      "\n",
      "-----------------------------------------\n",
      "\n",
      "At random state  146 the model performs well\n",
      "Acuraccy of training model : 81.30434782608695\n",
      "Accuracy of testing model : 81.16883116883116\n",
      "\n",
      "-----------------------------------------\n",
      "\n",
      "At random state  149 the model performs well\n",
      "Acuraccy of training model : 81.30434782608695\n",
      "Accuracy of testing model : 80.51948051948052\n",
      "\n",
      "-----------------------------------------\n",
      "\n",
      "At random state  150 the model performs well\n",
      "Acuraccy of training model : 81.30434782608695\n",
      "Accuracy of testing model : 80.51948051948052\n",
      "\n",
      "-----------------------------------------\n",
      "\n",
      "At random state  151 the model performs well\n",
      "Acuraccy of training model : 81.30434782608695\n",
      "Accuracy of testing model : 81.16883116883116\n",
      "\n",
      "-----------------------------------------\n",
      "\n",
      "At random state  156 the model performs well\n",
      "Acuraccy of training model : 81.30434782608695\n",
      "Accuracy of testing model : 81.16883116883116\n",
      "\n",
      "-----------------------------------------\n",
      "\n",
      "At random state  163 the model performs well\n",
      "Acuraccy of training model : 81.30434782608695\n",
      "Accuracy of testing model : 81.16883116883116\n",
      "\n",
      "-----------------------------------------\n",
      "\n",
      "At random state  167 the model performs well\n",
      "Acuraccy of training model : 81.30434782608695\n",
      "Accuracy of testing model : 80.51948051948052\n",
      "\n",
      "-----------------------------------------\n",
      "\n",
      "At random state  168 the model performs well\n",
      "Acuraccy of training model : 81.30434782608695\n",
      "Accuracy of testing model : 81.16883116883116\n",
      "\n",
      "-----------------------------------------\n",
      "\n",
      "At random state  171 the model performs well\n",
      "Acuraccy of training model : 81.30434782608695\n",
      "Accuracy of testing model : 81.16883116883116\n",
      "\n",
      "-----------------------------------------\n",
      "\n",
      "At random state  172 the model performs well\n",
      "Acuraccy of training model : 81.30434782608695\n",
      "Accuracy of testing model : 80.51948051948052\n",
      "\n",
      "-----------------------------------------\n",
      "\n",
      "At random state  185 the model performs well\n",
      "Acuraccy of training model : 81.30434782608695\n",
      "Accuracy of testing model : 81.16883116883116\n",
      "\n",
      "-----------------------------------------\n",
      "\n",
      "At random state  196 the model performs well\n",
      "Acuraccy of training model : 81.30434782608695\n",
      "Accuracy of testing model : 80.51948051948052\n",
      "\n",
      "-----------------------------------------\n",
      "\n",
      "At random state  199 the model performs well\n",
      "Acuraccy of training model : 81.30434782608695\n",
      "Accuracy of testing model : 80.51948051948052\n",
      "\n",
      "-----------------------------------------\n",
      "\n",
      "At random state  209 the model performs well\n",
      "Acuraccy of training model : 81.30434782608695\n",
      "Accuracy of testing model : 80.51948051948052\n",
      "\n",
      "-----------------------------------------\n",
      "\n",
      "At random state  221 the model performs well\n",
      "Acuraccy of training model : 81.30434782608695\n",
      "Accuracy of testing model : 81.16883116883116\n",
      "\n",
      "-----------------------------------------\n",
      "\n",
      "At random state  222 the model performs well\n",
      "Acuraccy of training model : 81.30434782608695\n",
      "Accuracy of testing model : 80.51948051948052\n",
      "\n",
      "-----------------------------------------\n",
      "\n",
      "At random state  229 the model performs well\n",
      "Acuraccy of training model : 81.30434782608695\n",
      "Accuracy of testing model : 80.51948051948052\n",
      "\n",
      "-----------------------------------------\n",
      "\n",
      "At random state  238 the model performs well\n",
      "Acuraccy of training model : 81.30434782608695\n",
      "Accuracy of testing model : 81.16883116883116\n",
      "\n",
      "-----------------------------------------\n",
      "\n",
      "At random state  243 the model performs well\n",
      "Acuraccy of training model : 81.30434782608695\n",
      "Accuracy of testing model : 81.16883116883116\n",
      "\n",
      "-----------------------------------------\n",
      "\n",
      "At random state  250 the model performs well\n",
      "Acuraccy of training model : 81.30434782608695\n",
      "Accuracy of testing model : 81.16883116883116\n",
      "\n",
      "-----------------------------------------\n",
      "\n",
      "At random state  263 the model performs well\n",
      "Acuraccy of training model : 81.30434782608695\n",
      "Accuracy of testing model : 81.16883116883116\n",
      "\n",
      "-----------------------------------------\n",
      "\n",
      "At random state  265 the model performs well\n",
      "Acuraccy of training model : 81.30434782608695\n",
      "Accuracy of testing model : 81.16883116883116\n",
      "\n",
      "-----------------------------------------\n",
      "\n",
      "At random state  279 the model performs well\n",
      "Acuraccy of training model : 81.30434782608695\n",
      "Accuracy of testing model : 80.51948051948052\n",
      "\n",
      "-----------------------------------------\n",
      "\n",
      "At random state  303 the model performs well\n",
      "Acuraccy of training model : 81.30434782608695\n",
      "Accuracy of testing model : 81.16883116883116\n",
      "\n",
      "-----------------------------------------\n",
      "\n",
      "At random state  304 the model performs well\n",
      "Acuraccy of training model : 81.30434782608695\n",
      "Accuracy of testing model : 80.51948051948052\n",
      "\n",
      "-----------------------------------------\n",
      "\n",
      "At random state  308 the model performs well\n",
      "Acuraccy of training model : 81.30434782608695\n",
      "Accuracy of testing model : 80.51948051948052\n",
      "\n",
      "-----------------------------------------\n",
      "\n",
      "At random state  311 the model performs well\n",
      "Acuraccy of training model : 81.30434782608695\n",
      "Accuracy of testing model : 80.51948051948052\n",
      "\n",
      "-----------------------------------------\n",
      "\n",
      "At random state  323 the model performs well\n",
      "Acuraccy of training model : 81.30434782608695\n",
      "Accuracy of testing model : 81.16883116883116\n",
      "\n",
      "-----------------------------------------\n",
      "\n",
      "At random state  333 the model performs well\n",
      "Acuraccy of training model : 81.30434782608695\n",
      "Accuracy of testing model : 80.51948051948052\n",
      "\n",
      "-----------------------------------------\n",
      "\n",
      "At random state  334 the model performs well\n",
      "Acuraccy of training model : 81.30434782608695\n",
      "Accuracy of testing model : 81.16883116883116\n",
      "\n",
      "-----------------------------------------\n",
      "\n",
      "At random state  352 the model performs well\n",
      "Acuraccy of training model : 81.30434782608695\n",
      "Accuracy of testing model : 81.16883116883116\n",
      "\n",
      "-----------------------------------------\n",
      "\n",
      "At random state  354 the model performs well\n",
      "Acuraccy of training model : 81.30434782608695\n",
      "Accuracy of testing model : 80.51948051948052\n",
      "\n",
      "-----------------------------------------\n",
      "\n",
      "At random state  358 the model performs well\n",
      "Acuraccy of training model : 81.30434782608695\n",
      "Accuracy of testing model : 80.51948051948052\n",
      "\n",
      "-----------------------------------------\n",
      "\n",
      "At random state  386 the model performs well\n",
      "Acuraccy of training model : 81.30434782608695\n",
      "Accuracy of testing model : 80.51948051948052\n",
      "\n",
      "-----------------------------------------\n",
      "\n",
      "At random state  395 the model performs well\n",
      "Acuraccy of training model : 81.30434782608695\n",
      "Accuracy of testing model : 80.51948051948052\n",
      "\n",
      "-----------------------------------------\n",
      "\n",
      "At random state  396 the model performs well\n",
      "Acuraccy of training model : 81.30434782608695\n",
      "Accuracy of testing model : 80.51948051948052\n",
      "\n",
      "-----------------------------------------\n",
      "\n",
      "At random state  402 the model performs well\n",
      "Acuraccy of training model : 81.30434782608695\n",
      "Accuracy of testing model : 81.16883116883116\n",
      "\n",
      "-----------------------------------------\n",
      "\n",
      "At random state  403 the model performs well\n",
      "Acuraccy of training model : 81.30434782608695\n",
      "Accuracy of testing model : 81.16883116883116\n",
      "\n",
      "-----------------------------------------\n",
      "\n",
      "At random state  406 the model performs well\n",
      "Acuraccy of training model : 81.30434782608695\n",
      "Accuracy of testing model : 81.16883116883116\n",
      "\n",
      "-----------------------------------------\n",
      "\n",
      "At random state  407 the model performs well\n",
      "Acuraccy of training model : 81.30434782608695\n",
      "Accuracy of testing model : 81.16883116883116\n",
      "\n",
      "-----------------------------------------\n",
      "\n",
      "At random state  413 the model performs well\n",
      "Acuraccy of training model : 81.30434782608695\n",
      "Accuracy of testing model : 81.16883116883116\n",
      "\n",
      "-----------------------------------------\n",
      "\n"
     ]
    },
    {
     "name": "stdout",
     "output_type": "stream",
     "text": [
      "At random state  417 the model performs well\n",
      "Acuraccy of training model : 81.30434782608695\n",
      "Accuracy of testing model : 80.51948051948052\n",
      "\n",
      "-----------------------------------------\n",
      "\n",
      "At random state  418 the model performs well\n",
      "Acuraccy of training model : 81.30434782608695\n",
      "Accuracy of testing model : 81.16883116883116\n",
      "\n",
      "-----------------------------------------\n",
      "\n",
      "At random state  421 the model performs well\n",
      "Acuraccy of training model : 81.30434782608695\n",
      "Accuracy of testing model : 80.51948051948052\n",
      "\n",
      "-----------------------------------------\n",
      "\n",
      "At random state  427 the model performs well\n",
      "Acuraccy of training model : 81.30434782608695\n",
      "Accuracy of testing model : 80.51948051948052\n",
      "\n",
      "-----------------------------------------\n",
      "\n",
      "At random state  434 the model performs well\n",
      "Acuraccy of training model : 81.30434782608695\n",
      "Accuracy of testing model : 80.51948051948052\n",
      "\n",
      "-----------------------------------------\n",
      "\n",
      "At random state  437 the model performs well\n",
      "Acuraccy of training model : 81.30434782608695\n",
      "Accuracy of testing model : 80.51948051948052\n",
      "\n",
      "-----------------------------------------\n",
      "\n",
      "At random state  450 the model performs well\n",
      "Acuraccy of training model : 81.30434782608695\n",
      "Accuracy of testing model : 81.16883116883116\n",
      "\n",
      "-----------------------------------------\n",
      "\n",
      "At random state  454 the model performs well\n",
      "Acuraccy of training model : 81.30434782608695\n",
      "Accuracy of testing model : 81.16883116883116\n",
      "\n",
      "-----------------------------------------\n",
      "\n",
      "At random state  461 the model performs well\n",
      "Acuraccy of training model : 81.30434782608695\n",
      "Accuracy of testing model : 80.51948051948052\n",
      "\n",
      "-----------------------------------------\n",
      "\n",
      "At random state  464 the model performs well\n",
      "Acuraccy of training model : 81.30434782608695\n",
      "Accuracy of testing model : 81.16883116883116\n",
      "\n",
      "-----------------------------------------\n",
      "\n",
      "At random state  472 the model performs well\n",
      "Acuraccy of training model : 81.30434782608695\n",
      "Accuracy of testing model : 80.51948051948052\n",
      "\n",
      "-----------------------------------------\n",
      "\n",
      "At random state  476 the model performs well\n",
      "Acuraccy of training model : 81.30434782608695\n",
      "Accuracy of testing model : 81.16883116883116\n",
      "\n",
      "-----------------------------------------\n",
      "\n",
      "At random state  477 the model performs well\n",
      "Acuraccy of training model : 81.30434782608695\n",
      "Accuracy of testing model : 81.16883116883116\n",
      "\n",
      "-----------------------------------------\n",
      "\n",
      "At random state  482 the model performs well\n",
      "Acuraccy of training model : 81.30434782608695\n",
      "Accuracy of testing model : 81.16883116883116\n",
      "\n",
      "-----------------------------------------\n",
      "\n",
      "At random state  483 the model performs well\n",
      "Acuraccy of training model : 81.30434782608695\n",
      "Accuracy of testing model : 81.16883116883116\n",
      "\n",
      "-----------------------------------------\n",
      "\n",
      "At random state  485 the model performs well\n",
      "Acuraccy of training model : 81.30434782608695\n",
      "Accuracy of testing model : 81.16883116883116\n",
      "\n",
      "-----------------------------------------\n",
      "\n",
      "At random state  497 the model performs well\n",
      "Acuraccy of training model : 81.30434782608695\n",
      "Accuracy of testing model : 80.51948051948052\n",
      "\n",
      "-----------------------------------------\n",
      "\n"
     ]
    }
   ],
   "source": [
    "#traintestsplit\n",
    "lg = LogisticRegression()\n",
    "for i in range(100,500):\n",
    "    x_train_rs,x_test,y_train_rs,y_test = train_test_split (X_scaled,Y, test_size=0.25, random_state = i)\n",
    "    lg.fit(x_train,y_train)\n",
    "    pred_train = lg.predict(x_train)\n",
    "    pred_test = lg.predict(x_test)\n",
    "    if round(accuracy_score(y_train,pred_train)*100)==round(accuracy_score(y_test,pred_test)*100):\n",
    "        print (\"At random state \",i,\"the model performs well\")\n",
    "        print (\"Acuraccy of training model :\",accuracy_score(y_train,pred_train)*100)\n",
    "        print (\"Accuracy of testing model :\",accuracy_score(y_test,pred_test)*100)\n",
    "        print (\"\\n-----------------------------------------\\n\")"
   ]
  },
  {
   "cell_type": "markdown",
   "id": "482ece52",
   "metadata": {},
   "source": [
    "Selecting 250 as random state"
   ]
  },
  {
   "cell_type": "code",
   "execution_count": 39,
   "id": "685c3b43",
   "metadata": {},
   "outputs": [],
   "source": [
    "#traintestsplit\n",
    "x_train_rs,x_test,y_train_rs,y_test = train_test_split (X_scaled,Y, test_size=0.25, random_state = 250)"
   ]
  },
  {
   "cell_type": "code",
   "execution_count": 40,
   "id": "145eb539",
   "metadata": {},
   "outputs": [],
   "source": [
    "# Model Selection\n",
    "def model_selection (algorithm, x_train_rs,y_train_rs,x_test,y_test):\n",
    "    algorithm.fit(x_train_rs,y_train_rs)\n",
    "    pred_train = algorithm.predict(x_train_rs)\n",
    "    pred_test = algorithm.predict(x_test)\n",
    "    auc_score = roc_auc_score(y_test,pred_test)\n",
    "    \n",
    "    print (algorithm)\n",
    "    print (\"Acuraccy of training model :\",accuracy_score(y_train_rs,pred_train))\n",
    "    print (\"Accuracy of testing model :\",accuracy_score(y_test,pred_test))\n",
    "    print (\"Classification report of test data :\\n \",classification_report(y_test,pred_test))\n",
    "    print (\"Confusion Matrix \\n\",confusion_matrix(y_test,pred_test))\n",
    "    \n",
    "    # Calculate ROC curve\n",
    "    fpr, tpr, xg1 = roc_curve(y_test, pred_test)\n",
    "\n",
    "    # Calculate AUC\n",
    "    roc_auc = auc(fpr, tpr)\n",
    "\n",
    "    # Plot ROC curve\n",
    "    plt.plot(fpr, tpr, label='ROC curve (area = %0.2f)' % roc_auc)\n",
    "    plt.plot([0, 1], [0, 1], 'k--')\n",
    "    plt.xlim([0.0, 1.0])\n",
    "    plt.ylim([0.0, 1.05])\n",
    "    plt.xlabel('False Positive Rate')\n",
    "    plt.ylabel('True Positive Rate')\n",
    "    plt.title('Receiver Operating Characteristic')\n",
    "    plt.legend(loc=\"lower right\")\n",
    "    plt.show()\n",
    "    \n",
    "    print (\"\\nAUC score: \",auc_score)\n",
    "    print (\"\\n -------------------------------------------------------------\\n\")"
   ]
  },
  {
   "cell_type": "code",
   "execution_count": 41,
   "id": "337baeb1",
   "metadata": {},
   "outputs": [
    {
     "name": "stdout",
     "output_type": "stream",
     "text": [
      "LogisticRegression()\n",
      "Acuraccy of training model : 0.808695652173913\n",
      "Accuracy of testing model : 0.8051948051948052\n",
      "Classification report of test data :\n",
      "                precision    recall  f1-score   support\n",
      "\n",
      "           0       0.78      0.42      0.55        43\n",
      "           1       0.81      0.95      0.88       111\n",
      "\n",
      "    accuracy                           0.81       154\n",
      "   macro avg       0.80      0.69      0.71       154\n",
      "weighted avg       0.80      0.81      0.78       154\n",
      "\n",
      "Confusion Matrix \n",
      " [[ 18  25]\n",
      " [  5 106]]\n"
     ]
    },
    {
     "data": {
      "image/png": "[encoded data removed]",
      "text/plain": [
       "<Figure size 432x288 with 1 Axes>"
      ]
     },
     "metadata": {
      "needs_background": "light"
     },
     "output_type": "display_data"
    },
    {
     "name": "stdout",
     "output_type": "stream",
     "text": [
      "\n",
      "AUC score:  0.6867798030588728\n",
      "\n",
      " -------------------------------------------------------------\n",
      "\n",
      "KNeighborsClassifier()\n",
      "Acuraccy of training model : 0.8130434782608695\n",
      "Accuracy of testing model : 0.7662337662337663\n",
      "Classification report of test data :\n",
      "                precision    recall  f1-score   support\n",
      "\n",
      "           0       0.62      0.42      0.50        43\n",
      "           1       0.80      0.90      0.85       111\n",
      "\n",
      "    accuracy                           0.77       154\n",
      "   macro avg       0.71      0.66      0.67       154\n",
      "weighted avg       0.75      0.77      0.75       154\n",
      "\n",
      "Confusion Matrix \n",
      " [[ 18  25]\n",
      " [ 11 100]]\n"
     ]
    },
    {
     "data": {
      "image/png": "[encoded data removed]",
      "text/plain": [
       "<Figure size 432x288 with 1 Axes>"
      ]
     },
     "metadata": {
      "needs_background": "light"
     },
     "output_type": "display_data"
    },
    {
     "name": "stdout",
     "output_type": "stream",
     "text": [
      "\n",
      "AUC score:  0.6597527760318458\n",
      "\n",
      " -------------------------------------------------------------\n",
      "\n",
      "DecisionTreeClassifier()\n",
      "Acuraccy of training model : 1.0\n",
      "Accuracy of testing model : 0.7142857142857143\n",
      "Classification report of test data :\n",
      "                precision    recall  f1-score   support\n",
      "\n",
      "           0       0.49      0.63      0.55        43\n",
      "           1       0.84      0.75      0.79       111\n",
      "\n",
      "    accuracy                           0.71       154\n",
      "   macro avg       0.66      0.69      0.67       154\n",
      "weighted avg       0.74      0.71      0.72       154\n",
      "\n",
      "Confusion Matrix \n",
      " [[27 16]\n",
      " [28 83]]\n"
     ]
    },
    {
     "data": {
      "image/png": "[encoded data removed]",
      "text/plain": [
       "<Figure size 432x288 with 1 Axes>"
      ]
     },
     "metadata": {
      "needs_background": "light"
     },
     "output_type": "display_data"
    },
    {
     "name": "stdout",
     "output_type": "stream",
     "text": [
      "\n",
      "AUC score:  0.687827362245967\n",
      "\n",
      " -------------------------------------------------------------\n",
      "\n",
      "SVC()\n",
      "Acuraccy of training model : 0.8326086956521739\n",
      "Accuracy of testing model : 0.7987012987012987\n",
      "Classification report of test data :\n",
      "                precision    recall  f1-score   support\n",
      "\n",
      "           0       0.75      0.42      0.54        43\n",
      "           1       0.81      0.95      0.87       111\n",
      "\n",
      "    accuracy                           0.80       154\n",
      "   macro avg       0.78      0.68      0.70       154\n",
      "weighted avg       0.79      0.80      0.78       154\n",
      "\n",
      "Confusion Matrix \n",
      " [[ 18  25]\n",
      " [  6 105]]\n"
     ]
    },
    {
     "data": {
      "image/png": "[encoded data removed]",
      "text/plain": [
       "<Figure size 432x288 with 1 Axes>"
      ]
     },
     "metadata": {
      "needs_background": "light"
     },
     "output_type": "display_data"
    },
    {
     "name": "stdout",
     "output_type": "stream",
     "text": [
      "\n",
      "AUC score:  0.6822752985543683\n",
      "\n",
      " -------------------------------------------------------------\n",
      "\n",
      "AdaBoostClassifier()\n",
      "Acuraccy of training model : 0.8586956521739131\n",
      "Accuracy of testing model : 0.7467532467532467\n",
      "Classification report of test data :\n",
      "                precision    recall  f1-score   support\n",
      "\n",
      "           0       0.56      0.44      0.49        43\n",
      "           1       0.80      0.86      0.83       111\n",
      "\n",
      "    accuracy                           0.75       154\n",
      "   macro avg       0.68      0.65      0.66       154\n",
      "weighted avg       0.73      0.75      0.74       154\n",
      "\n",
      "Confusion Matrix \n",
      " [[19 24]\n",
      " [15 96]]\n"
     ]
    },
    {
     "data": {
      "image/png": "[encoded data removed]",
      "text/plain": [
       "<Figure size 432x288 with 1 Axes>"
      ]
     },
     "metadata": {
      "needs_background": "light"
     },
     "output_type": "display_data"
    },
    {
     "name": "stdout",
     "output_type": "stream",
     "text": [
      "\n",
      "AUC score:  0.6533626649905719\n",
      "\n",
      " -------------------------------------------------------------\n",
      "\n",
      "RandomForestClassifier()\n",
      "Acuraccy of training model : 1.0\n",
      "Accuracy of testing model : 0.7662337662337663\n",
      "Classification report of test data :\n",
      "                precision    recall  f1-score   support\n",
      "\n",
      "           0       0.61      0.47      0.53        43\n",
      "           1       0.81      0.88      0.84       111\n",
      "\n",
      "    accuracy                           0.77       154\n",
      "   macro avg       0.71      0.67      0.69       154\n",
      "weighted avg       0.75      0.77      0.76       154\n",
      "\n",
      "Confusion Matrix \n",
      " [[20 23]\n",
      " [13 98]]\n"
     ]
    },
    {
     "data": {
      "image/png": "[encoded data removed]",
      "text/plain": [
       "<Figure size 432x288 with 1 Axes>"
      ]
     },
     "metadata": {
      "needs_background": "light"
     },
     "output_type": "display_data"
    },
    {
     "name": "stdout",
     "output_type": "stream",
     "text": [
      "\n",
      "AUC score:  0.6739995809763252\n",
      "\n",
      " -------------------------------------------------------------\n",
      "\n",
      "XGBClassifier(base_score=None, booster=None, callbacks=None,\n",
      "              colsample_bylevel=None, colsample_bynode=None,\n",
      "              colsample_bytree=None, early_stopping_rounds=None,\n",
      "              enable_categorical=False, eval_metric=None, feature_types=None,\n",
      "              gamma=None, gpu_id=None, grow_policy=None, importance_type=None,\n",
      "              interaction_constraints=None, learning_rate=None, max_bin=None,\n",
      "              max_cat_threshold=None, max_cat_to_onehot=None,\n",
      "              max_delta_step=None, max_depth=None, max_leaves=None,\n",
      "              min_child_weight=None, missing=nan, monotone_constraints=None,\n",
      "              n_estimators=100, n_jobs=None, num_parallel_tree=None,\n",
      "              predictor=None, random_state=None, ...)\n",
      "Acuraccy of training model : 1.0\n",
      "Accuracy of testing model : 0.7532467532467533\n",
      "Classification report of test data :\n",
      "                precision    recall  f1-score   support\n",
      "\n",
      "           0       0.56      0.53      0.55        43\n",
      "           1       0.82      0.84      0.83       111\n",
      "\n",
      "    accuracy                           0.75       154\n",
      "   macro avg       0.69      0.69      0.69       154\n",
      "weighted avg       0.75      0.75      0.75       154\n",
      "\n",
      "Confusion Matrix \n",
      " [[23 20]\n",
      " [18 93]]\n"
     ]
    },
    {
     "data": {
      "image/png": "[encoded data removed]",
      "text/plain": [
       "<Figure size 432x288 with 1 Axes>"
      ]
     },
     "metadata": {
      "needs_background": "light"
     },
     "output_type": "display_data"
    },
    {
     "name": "stdout",
     "output_type": "stream",
     "text": [
      "\n",
      "AUC score:  0.6863607793840353\n",
      "\n",
      " -------------------------------------------------------------\n",
      "\n"
     ]
    }
   ],
   "source": [
    "#Logistic Regression\n",
    "lr= LogisticRegression()\n",
    "model_selection(lr,x_train_rs,y_train_rs,x_test,y_test)\n",
    "\n",
    "#KNN\n",
    "knn= KNeighborsClassifier()\n",
    "model_selection(knn,x_train_rs,y_train_rs,x_test,y_test)\n",
    "\n",
    "#DecisionTree\n",
    "dt= DecisionTreeClassifier()\n",
    "model_selection(dt,x_train_rs,y_train_rs,x_test,y_test)\n",
    "\n",
    "#SVC\n",
    "svc= SVC()\n",
    "model_selection(svc,x_train_rs,y_train_rs,x_test,y_test)\n",
    "\n",
    "#Decision Tree\n",
    "ada = AdaBoostClassifier()\n",
    "model_selection(ada,x_train_rs,y_train_rs,x_test,y_test)\n",
    "\n",
    "#Random Forest \n",
    "rfc= RandomForestClassifier()\n",
    "model_selection(rfc,x_train_rs,y_train_rs,x_test,y_test)\n",
    "\n",
    "#XGBoost\n",
    "xg = xgb.XGBClassifier()\n",
    "model_selection(xg,x_train_rs,y_train_rs,x_test,y_test)\n"
   ]
  },
  {
   "cell_type": "markdown",
   "id": "2ee687cd",
   "metadata": {},
   "source": [
    "Selecting Logistic Regressoin and SVC for hyperparameter tunning as they have good accuracy for testing data and has less False Positives and False Negitives when compared to other models "
   ]
  },
  {
   "cell_type": "code",
   "execution_count": 42,
   "id": "01b4d882",
   "metadata": {},
   "outputs": [
    {
     "name": "stdout",
     "output_type": "stream",
     "text": [
      "{'penalty': 'l1', 'solver': 'liblinear'}\n",
      "{'gamma': 'scale', 'kernel': 'rbf', 'max_iter': 100}\n"
     ]
    }
   ],
   "source": [
    "# Hyperparameter Tuning :\n",
    "#Logistic Regression\n",
    "parameters = {'penalty':['l1', 'l2', 'elasticnet'],\n",
    "              'solver':['newton-cg', 'lbfgs', 'liblinear', 'sag', 'saga'],\n",
    "              }\n",
    "\n",
    "clf = GridSearchCV(lg,parameters,cv=5)\n",
    "clf.fit(x_train_rs,y_train_rs)\n",
    "print (clf.best_params_)\n",
    "#SVC\n",
    "parameters = {'kernel':['rbf', 'ploy', 'sigmoid'],\n",
    "              'gamma':['auto','scale'],\n",
    "              'max_iter': (30, 75, 100)\n",
    "    }\n",
    "\n",
    "clf = GridSearchCV(svc,parameters,cv=5)\n",
    "clf.fit(x_train_rs,y_train_rs)\n",
    "print (clf.best_params_)"
   ]
  },
  {
   "cell_type": "code",
   "execution_count": 43,
   "id": "5b894063",
   "metadata": {},
   "outputs": [
    {
     "name": "stdout",
     "output_type": "stream",
     "text": [
      "LogisticRegression(penalty='l1', solver='liblinear')\n",
      "Acuraccy of training model : 0.8108695652173913\n",
      "Accuracy of testing model : 0.8051948051948052\n",
      "Classification report of test data :\n",
      "                precision    recall  f1-score   support\n",
      "\n",
      "           0       0.78      0.42      0.55        43\n",
      "           1       0.81      0.95      0.88       111\n",
      "\n",
      "    accuracy                           0.81       154\n",
      "   macro avg       0.80      0.69      0.71       154\n",
      "weighted avg       0.80      0.81      0.78       154\n",
      "\n",
      "Confusion Matrix \n",
      " [[ 18  25]\n",
      " [  5 106]]\n"
     ]
    },
    {
     "data": {
      "image/png": "[encoded data removed]",
      "text/plain": [
       "<Figure size 432x288 with 1 Axes>"
      ]
     },
     "metadata": {
      "needs_background": "light"
     },
     "output_type": "display_data"
    },
    {
     "name": "stdout",
     "output_type": "stream",
     "text": [
      "\n",
      "AUC score:  0.6867798030588728\n",
      "\n",
      " -------------------------------------------------------------\n",
      "\n",
      "SVC(max_iter=100)\n",
      "Acuraccy of training model : 0.8434782608695652\n",
      "Accuracy of testing model : 0.7987012987012987\n",
      "Classification report of test data :\n",
      "                precision    recall  f1-score   support\n",
      "\n",
      "           0       0.73      0.44      0.55        43\n",
      "           1       0.81      0.94      0.87       111\n",
      "\n",
      "    accuracy                           0.80       154\n",
      "   macro avg       0.77      0.69      0.71       154\n",
      "weighted avg       0.79      0.80      0.78       154\n",
      "\n",
      "Confusion Matrix \n",
      " [[ 19  24]\n",
      " [  7 104]]\n"
     ]
    },
    {
     "data": {
      "image/png": "[encoded data removed]",
      "text/plain": [
       "<Figure size 432x288 with 1 Axes>"
      ]
     },
     "metadata": {
      "needs_background": "light"
     },
     "output_type": "display_data"
    },
    {
     "name": "stdout",
     "output_type": "stream",
     "text": [
      "\n",
      "AUC score:  0.689398701026608\n",
      "\n",
      " -------------------------------------------------------------\n",
      "\n"
     ]
    }
   ],
   "source": [
    "\n",
    "lg1 = LogisticRegression(penalty='l1', solver= 'liblinear')\n",
    "model_selection(lg1,x_train_rs,y_train_rs,x_test,y_test)\n",
    "\n",
    "svc1 = SVC(gamma='scale', kernel='rbf', max_iter=100)\n",
    "model_selection(svc1,x_train_rs,y_train_rs,x_test,y_test)"
   ]
  },
  {
   "cell_type": "markdown",
   "id": "baffaac9",
   "metadata": {},
   "source": [
    "Selecting Logistic Regression for prediction as it has \n",
    "1. The best testing accuracy \n",
    "2. Less number of False Postives and False Negitves"
   ]
  },
  {
   "cell_type": "code",
   "execution_count": 44,
   "id": "4b0051ac",
   "metadata": {},
   "outputs": [],
   "source": [
    "# Saving Model\n",
    "import pickle\n",
    "filename= 'Loan_pred.pkl'\n",
    "pickle.dump(lg,open(filename, 'wb'))"
   ]
  },
  {
   "cell_type": "code",
   "execution_count": 45,
   "id": "4300185e",
   "metadata": {},
   "outputs": [
    {
     "data": {
      "text/html": [
       "<div>\n",
       "<style scoped>\n",
       "    .dataframe tbody tr th:only-of-type {\n",
       "        vertical-align: middle;\n",
       "    }\n",
       "\n",
       "    .dataframe tbody tr th {\n",
       "        vertical-align: top;\n",
       "    }\n",
       "\n",
       "    .dataframe thead th {\n",
       "        text-align: right;\n",
       "    }\n",
       "</style>\n",
       "<table border=\"1\" class=\"dataframe\">\n",
       "  <thead>\n",
       "    <tr style=\"text-align: right;\">\n",
       "      <th></th>\n",
       "      <th>Orignal</th>\n",
       "      <th>Predicted</th>\n",
       "    </tr>\n",
       "  </thead>\n",
       "  <tbody>\n",
       "    <tr>\n",
       "      <th>0</th>\n",
       "      <td>1</td>\n",
       "      <td>1</td>\n",
       "    </tr>\n",
       "    <tr>\n",
       "      <th>1</th>\n",
       "      <td>1</td>\n",
       "      <td>1</td>\n",
       "    </tr>\n",
       "    <tr>\n",
       "      <th>2</th>\n",
       "      <td>1</td>\n",
       "      <td>0</td>\n",
       "    </tr>\n",
       "    <tr>\n",
       "      <th>3</th>\n",
       "      <td>1</td>\n",
       "      <td>1</td>\n",
       "    </tr>\n",
       "    <tr>\n",
       "      <th>4</th>\n",
       "      <td>1</td>\n",
       "      <td>1</td>\n",
       "    </tr>\n",
       "    <tr>\n",
       "      <th>...</th>\n",
       "      <td>...</td>\n",
       "      <td>...</td>\n",
       "    </tr>\n",
       "    <tr>\n",
       "      <th>149</th>\n",
       "      <td>1</td>\n",
       "      <td>0</td>\n",
       "    </tr>\n",
       "    <tr>\n",
       "      <th>150</th>\n",
       "      <td>0</td>\n",
       "      <td>0</td>\n",
       "    </tr>\n",
       "    <tr>\n",
       "      <th>151</th>\n",
       "      <td>1</td>\n",
       "      <td>1</td>\n",
       "    </tr>\n",
       "    <tr>\n",
       "      <th>152</th>\n",
       "      <td>1</td>\n",
       "      <td>1</td>\n",
       "    </tr>\n",
       "    <tr>\n",
       "      <th>153</th>\n",
       "      <td>0</td>\n",
       "      <td>1</td>\n",
       "    </tr>\n",
       "  </tbody>\n",
       "</table>\n",
       "<p>154 rows × 2 columns</p>\n",
       "</div>"
      ],
      "text/plain": [
       "     Orignal  Predicted\n",
       "0          1          1\n",
       "1          1          1\n",
       "2          1          0\n",
       "3          1          1\n",
       "4          1          1\n",
       "..       ...        ...\n",
       "149        1          0\n",
       "150        0          0\n",
       "151        1          1\n",
       "152        1          1\n",
       "153        0          1\n",
       "\n",
       "[154 rows x 2 columns]"
      ]
     },
     "execution_count": 45,
     "metadata": {},
     "output_type": "execute_result"
    }
   ],
   "source": [
    "#Prediction\n",
    "a= np.array(y_test)\n",
    "predicted=np.array (lg.predict(x_test))\n",
    "df = pd.DataFrame({\"Orignal\":a, \"Predicted\":predicted}, index = range(len(a)))\n",
    "df"
   ]
  },
  {
   "cell_type": "code",
   "execution_count": 46,
   "id": "636dac75",
   "metadata": {},
   "outputs": [
    {
     "data": {
      "text/html": [
       "<div>\n",
       "<style scoped>\n",
       "    .dataframe tbody tr th:only-of-type {\n",
       "        vertical-align: middle;\n",
       "    }\n",
       "\n",
       "    .dataframe tbody tr th {\n",
       "        vertical-align: top;\n",
       "    }\n",
       "\n",
       "    .dataframe thead th {\n",
       "        text-align: right;\n",
       "    }\n",
       "</style>\n",
       "<table border=\"1\" class=\"dataframe\">\n",
       "  <thead>\n",
       "    <tr style=\"text-align: right;\">\n",
       "      <th></th>\n",
       "      <th>Orignal</th>\n",
       "      <th>Predicted</th>\n",
       "    </tr>\n",
       "  </thead>\n",
       "  <tbody>\n",
       "    <tr>\n",
       "      <th>0</th>\n",
       "      <td>Y</td>\n",
       "      <td>Y</td>\n",
       "    </tr>\n",
       "    <tr>\n",
       "      <th>1</th>\n",
       "      <td>Y</td>\n",
       "      <td>Y</td>\n",
       "    </tr>\n",
       "    <tr>\n",
       "      <th>2</th>\n",
       "      <td>Y</td>\n",
       "      <td>N</td>\n",
       "    </tr>\n",
       "    <tr>\n",
       "      <th>3</th>\n",
       "      <td>Y</td>\n",
       "      <td>Y</td>\n",
       "    </tr>\n",
       "    <tr>\n",
       "      <th>4</th>\n",
       "      <td>Y</td>\n",
       "      <td>Y</td>\n",
       "    </tr>\n",
       "    <tr>\n",
       "      <th>...</th>\n",
       "      <td>...</td>\n",
       "      <td>...</td>\n",
       "    </tr>\n",
       "    <tr>\n",
       "      <th>149</th>\n",
       "      <td>Y</td>\n",
       "      <td>N</td>\n",
       "    </tr>\n",
       "    <tr>\n",
       "      <th>150</th>\n",
       "      <td>N</td>\n",
       "      <td>N</td>\n",
       "    </tr>\n",
       "    <tr>\n",
       "      <th>151</th>\n",
       "      <td>Y</td>\n",
       "      <td>Y</td>\n",
       "    </tr>\n",
       "    <tr>\n",
       "      <th>152</th>\n",
       "      <td>Y</td>\n",
       "      <td>Y</td>\n",
       "    </tr>\n",
       "    <tr>\n",
       "      <th>153</th>\n",
       "      <td>N</td>\n",
       "      <td>Y</td>\n",
       "    </tr>\n",
       "  </tbody>\n",
       "</table>\n",
       "<p>154 rows × 2 columns</p>\n",
       "</div>"
      ],
      "text/plain": [
       "    Orignal Predicted\n",
       "0         Y         Y\n",
       "1         Y         Y\n",
       "2         Y         N\n",
       "3         Y         Y\n",
       "4         Y         Y\n",
       "..      ...       ...\n",
       "149       Y         N\n",
       "150       N         N\n",
       "151       Y         Y\n",
       "152       Y         Y\n",
       "153       N         Y\n",
       "\n",
       "[154 rows x 2 columns]"
      ]
     },
     "execution_count": 46,
     "metadata": {},
     "output_type": "execute_result"
    }
   ],
   "source": [
    "#Final Prediction\n",
    "a= L_encoder.inverse_transform(np.array(y_test))\n",
    "predicted=L_encoder.inverse_transform(np.array (lg.predict(x_test)))\n",
    "df1 = pd.DataFrame({\"Orignal\":a, \"Predicted\":predicted}, index = range(len(a)))\n",
    "df1"
   ]
  },
  {
   "cell_type": "code",
   "execution_count": null,
   "id": "26beaab2",
   "metadata": {},
   "outputs": [],
   "source": []
  }
 ],
 "metadata": {
  "kernelspec": {
   "display_name": "Python 3 (ipykernel)",
   "language": "python",
   "name": "python3"
  },
  "language_info": {
   "codemirror_mode": {
    "name": "ipython",
    "version": 3
   },
   "file_extension": ".py",
   "mimetype": "text/x-python",
   "name": "python",
   "nbconvert_exporter": "python",
   "pygments_lexer": "ipython3",
   "version": "3.9.12"
  }
 },
 "nbformat": 4,
 "nbformat_minor": 5
}
